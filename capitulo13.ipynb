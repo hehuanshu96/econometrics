{
 "cells": [
  {
   "cell_type": "markdown",
   "metadata": {},
   "source": [
    "# capítulo 13\n",
    "##ejercicio 1"
   ]
  },
  {
   "cell_type": "code",
   "execution_count": 81,
   "metadata": {},
   "outputs": [],
   "source": [
    "options(warn=-1)\n",
    "library(plm)\n",
    "library(car)\n",
    "library(stats)\n",
    "library(stargazer)\n",
    "library(stats)\n",
    "library(dplyr)\n",
    "library(lmtest)\n",
    "library(sandwich)"
   ]
  },
  {
   "cell_type": "code",
   "execution_count": null,
   "metadata": {},
   "outputs": [],
   "source": []
  },
  {
   "cell_type": "code",
   "execution_count": 84,
   "metadata": {},
   "outputs": [
    {
     "data": {
      "text/html": [
       "<table>\n",
       "<thead><tr><th scope=col>Res.Df</th><th scope=col>RSS</th><th scope=col>Df</th><th scope=col>Sum of Sq</th><th scope=col>F</th><th scope=col>Pr(&gt;F)</th></tr></thead>\n",
       "<tbody>\n",
       "\t<tr><td>1115    </td><td>2697.104</td><td>NA      </td><td>      NA</td><td>      NA</td><td>      NA</td></tr>\n",
       "\t<tr><td>1111    </td><td>2685.898</td><td> 4      </td><td>11.20549</td><td>1.158765</td><td>0.327458</td></tr>\n",
       "</tbody>\n",
       "</table>\n"
      ],
      "text/latex": [
       "\\begin{tabular}{r|llllll}\n",
       " Res.Df & RSS & Df & Sum of Sq & F & Pr(>F)\\\\\n",
       "\\hline\n",
       "\t 1115     & 2697.104 & NA       &       NA &       NA &       NA\\\\\n",
       "\t 1111     & 2685.898 &  4       & 11.20549 & 1.158765 & 0.327458\\\\\n",
       "\\end{tabular}\n"
      ],
      "text/markdown": [
       "\n",
       "Res.Df | RSS | Df | Sum of Sq | F | Pr(>F) | \n",
       "|---|---|\n",
       "| 1115     | 2697.104 | NA       |       NA |       NA |       NA | \n",
       "| 1111     | 2685.898 |  4       | 11.20549 | 1.158765 | 0.327458 | \n",
       "\n",
       "\n"
      ],
      "text/plain": [
       "  Res.Df RSS      Df Sum of Sq F        Pr(>F)  \n",
       "1 1115   2697.104 NA       NA        NA       NA\n",
       "2 1111   2685.898  4 11.20549  1.158765 0.327458"
      ]
     },
     "metadata": {},
     "output_type": "display_data"
    }
   ],
   "source": [
    "\n",
    "load(\"data/fertil1.RData\")\n",
    "fertil1 <- data\n",
    "rm('data','desc')\n",
    "mod13_1 <- lm(data = fertil1, kids ~ educ + age + I(age^2) + black + east + \n",
    "              northcen + west + farm + othrural + town +\n",
    "              smcity + y74 + y76 + y78 + y80 + y82 + y84 )\n",
    "car::linearHypothesis(mod13_1, c('farm', 'othrural', 'town', 'smcity'))"
   ]
  },
  {
   "cell_type": "markdown",
   "metadata": {},
   "source": [
    ">i) El estadístico F de significación conjunta para las variables de condiciones del entorno a la edad de 16 años tiene un p-valor de 0.33 por lo cual no se puede rechazar la hipotesis de que todas valen cero."
   ]
  },
  {
   "cell_type": "code",
   "execution_count": null,
   "metadata": {},
   "outputs": [],
   "source": [
    "\n",
    "linearHypothesis(mod13_1, c('east', 'northcen', 'west'))\n"
   ]
  },
  {
   "cell_type": "markdown",
   "metadata": {},
   "source": [
    ">ii) Las varibles de región del país a los 16 años tienen un p-valor para la prueba F de 0.029 por lo tanto si son signiticantes a un nivel del 97%. "
   ]
  },
  {
   "cell_type": "code",
   "execution_count": null,
   "metadata": {
    "scrolled": true
   },
   "outputs": [],
   "source": [
    "u <- residuals(mod13_1)\n",
    "test_model <- lm(I(u^2) ~  y74 + y76 + y78 + y80 + y82 + y84, data = fertil1 )\n",
    "linearHypothesis(test_model, c('y74', 'y76', 'y78', 'y80', 'y82', 'y84'))\n"
   ]
  },
  {
   "cell_type": "markdown",
   "metadata": {},
   "source": [
    ">iii) Existe suficiente evidencia estadística para aceptar heterocedasticidad en los errores. "
   ]
  },
  {
   "cell_type": "code",
   "execution_count": 85,
   "metadata": {
    "scrolled": true
   },
   "outputs": [
    {
     "data": {
      "text/html": [
       "<table>\n",
       "<thead><tr><th></th><th scope=col>Estimate</th><th scope=col>Std. Error</th><th scope=col>t value</th><th scope=col>Pr(&gt;|t|)</th></tr></thead>\n",
       "<tbody>\n",
       "\t<tr><th scope=row>(Intercept)</th><td>-8.477302131</td><td>3.126360276 </td><td>-2.7115564  </td><td>6.800684e-03</td></tr>\n",
       "\t<tr><th scope=row>educ</th><td>-0.022515231</td><td>0.053618261 </td><td>-0.4199172  </td><td>6.746276e-01</td></tr>\n",
       "\t<tr><th scope=row>age</th><td> 0.507465834</td><td>0.138921522 </td><td> 3.6528957  </td><td>2.714583e-04</td></tr>\n",
       "\t<tr><th scope=row>I(age^2)</th><td>-0.005524971</td><td>0.001570009 </td><td>-3.5190710  </td><td>4.506791e-04</td></tr>\n",
       "\t<tr><th scope=row>black</th><td> 1.074054877</td><td>0.173701015 </td><td> 6.1833541  </td><td>8.817586e-10</td></tr>\n",
       "\t<tr><th scope=row>east</th><td> 0.206055930</td><td>0.133142996 </td><td> 1.5476288  </td><td>1.219980e-01</td></tr>\n",
       "\t<tr><th scope=row>northcen</th><td> 0.348286721</td><td>0.121098738 </td><td> 2.8760557  </td><td>4.104119e-03</td></tr>\n",
       "\t<tr><th scope=row>west</th><td> 0.177122131</td><td>0.167452303 </td><td> 1.0577468  </td><td>2.904021e-01</td></tr>\n",
       "\t<tr><th scope=row>farm</th><td>-0.072162198</td><td>0.147507965 </td><td>-0.4892088  </td><td>6.247910e-01</td></tr>\n",
       "\t<tr><th scope=row>othrural</th><td>-0.191153859</td><td>0.175934037 </td><td>-1.0865087  </td><td>2.774910e-01</td></tr>\n",
       "\t<tr><th scope=row>town</th><td> 0.088229487</td><td>0.124535602 </td><td> 0.7084680  </td><td>4.788041e-01</td></tr>\n",
       "\t<tr><th scope=row>smcity</th><td> 0.205357592</td><td>0.160210393 </td><td> 1.2817994  </td><td>2.001819e-01</td></tr>\n",
       "\t<tr><th scope=row>y74</th><td> 0.946914919</td><td>0.904158933 </td><td> 1.0472881  </td><td>2.951957e-01</td></tr>\n",
       "\t<tr><th scope=row>y76</th><td> 1.019963166</td><td>0.882033919 </td><td> 1.1563764  </td><td>2.477772e-01</td></tr>\n",
       "\t<tr><th scope=row>y78</th><td> 1.805985151</td><td>0.951865866 </td><td> 1.8973106  </td><td>5.804746e-02</td></tr>\n",
       "\t<tr><th scope=row>y80</th><td> 1.114183245</td><td>0.897601029 </td><td> 1.2412901  </td><td>2.147620e-01</td></tr>\n",
       "\t<tr><th scope=row>y82</th><td> 1.199807328</td><td>0.876289067 </td><td> 1.3691913  </td><td>1.712177e-01</td></tr>\n",
       "\t<tr><th scope=row>y84</th><td> 1.671260773</td><td>0.899050053 </td><td> 1.8589185  </td><td>6.330439e-02</td></tr>\n",
       "\t<tr><th scope=row>I(y74 * educ)</th><td>-0.056424832</td><td>0.072560654 </td><td>-0.7776230  </td><td>4.369578e-01</td></tr>\n",
       "\t<tr><th scope=row>I(y76 * educ)</th><td>-0.092099696</td><td>0.070874767 </td><td>-1.2994709  </td><td>1.940534e-01</td></tr>\n",
       "\t<tr><th scope=row>I(y78 * educ)</th><td>-0.152387255</td><td>0.075281863 </td><td>-2.0242227  </td><td>4.318745e-02</td></tr>\n",
       "\t<tr><th scope=row>I(y80 * educ)</th><td>-0.097904853</td><td>0.070452286 </td><td>-1.3896618  </td><td>1.649115e-01</td></tr>\n",
       "\t<tr><th scope=row>I(y82 * educ)</th><td>-0.138944737</td><td>0.068371249 </td><td>-2.0322100  </td><td>4.237119e-02</td></tr>\n",
       "\t<tr><th scope=row>I(y84 * educ)</th><td>-0.176096976</td><td>0.069914918 </td><td>-2.5187325  </td><td>1.191811e-02</td></tr>\n",
       "</tbody>\n",
       "</table>\n"
      ],
      "text/latex": [
       "\\begin{tabular}{r|llll}\n",
       "  & Estimate & Std. Error & t value & Pr(>\\textbar{}t\\textbar{})\\\\\n",
       "\\hline\n",
       "\t(Intercept) & -8.477302131 & 3.126360276  & -2.7115564   & 6.800684e-03\\\\\n",
       "\teduc & -0.022515231 & 0.053618261  & -0.4199172   & 6.746276e-01\\\\\n",
       "\tage &  0.507465834 & 0.138921522  &  3.6528957   & 2.714583e-04\\\\\n",
       "\tI(age\\textasciicircum{}2) & -0.005524971 & 0.001570009  & -3.5190710   & 4.506791e-04\\\\\n",
       "\tblack &  1.074054877 & 0.173701015  &  6.1833541   & 8.817586e-10\\\\\n",
       "\teast &  0.206055930 & 0.133142996  &  1.5476288   & 1.219980e-01\\\\\n",
       "\tnorthcen &  0.348286721 & 0.121098738  &  2.8760557   & 4.104119e-03\\\\\n",
       "\twest &  0.177122131 & 0.167452303  &  1.0577468   & 2.904021e-01\\\\\n",
       "\tfarm & -0.072162198 & 0.147507965  & -0.4892088   & 6.247910e-01\\\\\n",
       "\tothrural & -0.191153859 & 0.175934037  & -1.0865087   & 2.774910e-01\\\\\n",
       "\ttown &  0.088229487 & 0.124535602  &  0.7084680   & 4.788041e-01\\\\\n",
       "\tsmcity &  0.205357592 & 0.160210393  &  1.2817994   & 2.001819e-01\\\\\n",
       "\ty74 &  0.946914919 & 0.904158933  &  1.0472881   & 2.951957e-01\\\\\n",
       "\ty76 &  1.019963166 & 0.882033919  &  1.1563764   & 2.477772e-01\\\\\n",
       "\ty78 &  1.805985151 & 0.951865866  &  1.8973106   & 5.804746e-02\\\\\n",
       "\ty80 &  1.114183245 & 0.897601029  &  1.2412901   & 2.147620e-01\\\\\n",
       "\ty82 &  1.199807328 & 0.876289067  &  1.3691913   & 1.712177e-01\\\\\n",
       "\ty84 &  1.671260773 & 0.899050053  &  1.8589185   & 6.330439e-02\\\\\n",
       "\tI(y74 * educ) & -0.056424832 & 0.072560654  & -0.7776230   & 4.369578e-01\\\\\n",
       "\tI(y76 * educ) & -0.092099696 & 0.070874767  & -1.2994709   & 1.940534e-01\\\\\n",
       "\tI(y78 * educ) & -0.152387255 & 0.075281863  & -2.0242227   & 4.318745e-02\\\\\n",
       "\tI(y80 * educ) & -0.097904853 & 0.070452286  & -1.3896618   & 1.649115e-01\\\\\n",
       "\tI(y82 * educ) & -0.138944737 & 0.068371249  & -2.0322100   & 4.237119e-02\\\\\n",
       "\tI(y84 * educ) & -0.176096976 & 0.069914918  & -2.5187325   & 1.191811e-02\\\\\n",
       "\\end{tabular}\n"
      ],
      "text/markdown": [
       "\n",
       "| <!--/--> | Estimate | Std. Error | t value | Pr(>|t|) | \n",
       "|---|---|---|---|---|---|---|---|---|---|---|---|---|---|---|---|---|---|---|---|---|---|---|---|\n",
       "| (Intercept) | -8.477302131 | 3.126360276  | -2.7115564   | 6.800684e-03 | \n",
       "| educ | -0.022515231 | 0.053618261  | -0.4199172   | 6.746276e-01 | \n",
       "| age |  0.507465834 | 0.138921522  |  3.6528957   | 2.714583e-04 | \n",
       "| I(age^2) | -0.005524971 | 0.001570009  | -3.5190710   | 4.506791e-04 | \n",
       "| black |  1.074054877 | 0.173701015  |  6.1833541   | 8.817586e-10 | \n",
       "| east |  0.206055930 | 0.133142996  |  1.5476288   | 1.219980e-01 | \n",
       "| northcen |  0.348286721 | 0.121098738  |  2.8760557   | 4.104119e-03 | \n",
       "| west |  0.177122131 | 0.167452303  |  1.0577468   | 2.904021e-01 | \n",
       "| farm | -0.072162198 | 0.147507965  | -0.4892088   | 6.247910e-01 | \n",
       "| othrural | -0.191153859 | 0.175934037  | -1.0865087   | 2.774910e-01 | \n",
       "| town |  0.088229487 | 0.124535602  |  0.7084680   | 4.788041e-01 | \n",
       "| smcity |  0.205357592 | 0.160210393  |  1.2817994   | 2.001819e-01 | \n",
       "| y74 |  0.946914919 | 0.904158933  |  1.0472881   | 2.951957e-01 | \n",
       "| y76 |  1.019963166 | 0.882033919  |  1.1563764   | 2.477772e-01 | \n",
       "| y78 |  1.805985151 | 0.951865866  |  1.8973106   | 5.804746e-02 | \n",
       "| y80 |  1.114183245 | 0.897601029  |  1.2412901   | 2.147620e-01 | \n",
       "| y82 |  1.199807328 | 0.876289067  |  1.3691913   | 1.712177e-01 | \n",
       "| y84 |  1.671260773 | 0.899050053  |  1.8589185   | 6.330439e-02 | \n",
       "| I(y74 * educ) | -0.056424832 | 0.072560654  | -0.7776230   | 4.369578e-01 | \n",
       "| I(y76 * educ) | -0.092099696 | 0.070874767  | -1.2994709   | 1.940534e-01 | \n",
       "| I(y78 * educ) | -0.152387255 | 0.075281863  | -2.0242227   | 4.318745e-02 | \n",
       "| I(y80 * educ) | -0.097904853 | 0.070452286  | -1.3896618   | 1.649115e-01 | \n",
       "| I(y82 * educ) | -0.138944737 | 0.068371249  | -2.0322100   | 4.237119e-02 | \n",
       "| I(y84 * educ) | -0.176096976 | 0.069914918  | -2.5187325   | 1.191811e-02 | \n",
       "\n",
       "\n"
      ],
      "text/plain": [
       "              Estimate     Std. Error  t value    Pr(>|t|)    \n",
       "(Intercept)   -8.477302131 3.126360276 -2.7115564 6.800684e-03\n",
       "educ          -0.022515231 0.053618261 -0.4199172 6.746276e-01\n",
       "age            0.507465834 0.138921522  3.6528957 2.714583e-04\n",
       "I(age^2)      -0.005524971 0.001570009 -3.5190710 4.506791e-04\n",
       "black          1.074054877 0.173701015  6.1833541 8.817586e-10\n",
       "east           0.206055930 0.133142996  1.5476288 1.219980e-01\n",
       "northcen       0.348286721 0.121098738  2.8760557 4.104119e-03\n",
       "west           0.177122131 0.167452303  1.0577468 2.904021e-01\n",
       "farm          -0.072162198 0.147507965 -0.4892088 6.247910e-01\n",
       "othrural      -0.191153859 0.175934037 -1.0865087 2.774910e-01\n",
       "town           0.088229487 0.124535602  0.7084680 4.788041e-01\n",
       "smcity         0.205357592 0.160210393  1.2817994 2.001819e-01\n",
       "y74            0.946914919 0.904158933  1.0472881 2.951957e-01\n",
       "y76            1.019963166 0.882033919  1.1563764 2.477772e-01\n",
       "y78            1.805985151 0.951865866  1.8973106 5.804746e-02\n",
       "y80            1.114183245 0.897601029  1.2412901 2.147620e-01\n",
       "y82            1.199807328 0.876289067  1.3691913 1.712177e-01\n",
       "y84            1.671260773 0.899050053  1.8589185 6.330439e-02\n",
       "I(y74 * educ) -0.056424832 0.072560654 -0.7776230 4.369578e-01\n",
       "I(y76 * educ) -0.092099696 0.070874767 -1.2994709 1.940534e-01\n",
       "I(y78 * educ) -0.152387255 0.075281863 -2.0242227 4.318745e-02\n",
       "I(y80 * educ) -0.097904853 0.070452286 -1.3896618 1.649115e-01\n",
       "I(y82 * educ) -0.138944737 0.068371249 -2.0322100 4.237119e-02\n",
       "I(y84 * educ) -0.176096976 0.069914918 -2.5187325 1.191811e-02"
      ]
     },
     "metadata": {},
     "output_type": "display_data"
    },
    {
     "data": {
      "text/html": [
       "<table>\n",
       "<thead><tr><th scope=col>Res.Df</th><th scope=col>RSS</th><th scope=col>Df</th><th scope=col>Sum of Sq</th><th scope=col>F</th><th scope=col>Pr(&gt;F)</th></tr></thead>\n",
       "<tbody>\n",
       "\t<tr><td>1111     </td><td>2685.898 </td><td>NA       </td><td>      NA </td><td>      NA </td><td>       NA</td></tr>\n",
       "\t<tr><td>1105     </td><td>2664.435 </td><td> 6       </td><td>21.46357 </td><td>1.483569 </td><td>0.1803366</td></tr>\n",
       "</tbody>\n",
       "</table>\n"
      ],
      "text/latex": [
       "\\begin{tabular}{r|llllll}\n",
       " Res.Df & RSS & Df & Sum of Sq & F & Pr(>F)\\\\\n",
       "\\hline\n",
       "\t 1111      & 2685.898  & NA        &       NA  &       NA  &        NA\\\\\n",
       "\t 1105      & 2664.435  &  6        & 21.46357  & 1.483569  & 0.1803366\\\\\n",
       "\\end{tabular}\n"
      ],
      "text/markdown": [
       "\n",
       "Res.Df | RSS | Df | Sum of Sq | F | Pr(>F) | \n",
       "|---|---|\n",
       "| 1111      | 2685.898  | NA        |       NA  |       NA  |        NA | \n",
       "| 1105      | 2664.435  |  6        | 21.46357  | 1.483569  | 0.1803366 | \n",
       "\n",
       "\n"
      ],
      "text/plain": [
       "  Res.Df RSS      Df Sum of Sq F        Pr(>F)   \n",
       "1 1111   2685.898 NA       NA        NA        NA\n",
       "2 1105   2664.435  6 21.46357  1.483569 0.1803366"
      ]
     },
     "metadata": {},
     "output_type": "display_data"
    }
   ],
   "source": [
    "mod13_1 <- update(mod13_1, . ~ . + I(y74*educ) + I(y76*educ) + I(y78*educ)\n",
    "                  + I(y80*educ) + I(y82*educ) + I(y84*educ))\n",
    "summary(mod13_1, signif.stars = true, digits = 3)$coefficients\n",
    "car::linearHypothesis(mod13_1, c(\"I(y74 * educ)\", \"I(y76 * educ)\", \"I(y78 * educ)\", \"I(y80 * educ)\",\n",
    "                                 \"I(y82 * educ)\", \"I(y84 * educ)\"))"
   ]
  },
  {
   "cell_type": "markdown",
   "metadata": {},
   "source": [
    ">iv) Estos terminos representan la propensión del cambio de la educación en cada año. pero no son conjuntamente significativos. "
   ]
  },
  {
   "cell_type": "markdown",
   "metadata": {},
   "source": [
    "##Ejercicio 2"
   ]
  },
  {
   "cell_type": "code",
   "execution_count": 83,
   "metadata": {},
   "outputs": [
    {
     "data": {
      "text/html": [
       "<table>\n",
       "<thead><tr><th></th><th scope=col>Estimate</th><th scope=col>Std. Error</th><th scope=col>t value</th><th scope=col>Pr(&gt;|t|)</th></tr></thead>\n",
       "<tbody>\n",
       "\t<tr><th scope=row>(Intercept)</th><td> 0.4589328832</td><td>9.344850e-02 </td><td> 4.9110781   </td><td>1.046281e-06 </td></tr>\n",
       "\t<tr><th scope=row>y85</th><td> 0.1178062179</td><td>1.237817e-01 </td><td> 0.9517254   </td><td>3.414502e-01 </td></tr>\n",
       "\t<tr><th scope=row>educ</th><td> 0.0747209129</td><td>6.676431e-03 </td><td>11.1917443   </td><td>1.399530e-27 </td></tr>\n",
       "\t<tr><th scope=row>y85educ</th><td> 0.0184605323</td><td>9.354169e-03 </td><td> 1.9735085   </td><td>4.869344e-02 </td></tr>\n",
       "\t<tr><th scope=row>exper</th><td> 0.0295843067</td><td>3.567312e-03 </td><td> 8.2931650   </td><td>3.266999e-16 </td></tr>\n",
       "\t<tr><th scope=row>expersq</th><td>-0.0003994278</td><td>7.753912e-05 </td><td>-5.1513072   </td><td>3.075711e-07 </td></tr>\n",
       "\t<tr><th scope=row>union</th><td> 0.2021318735</td><td>3.029449e-02 </td><td> 6.6722331   </td><td>4.025626e-11 </td></tr>\n",
       "\t<tr><th scope=row>female</th><td>-0.3167086481</td><td>3.662145e-02 </td><td>-8.6481733   </td><td>1.876348e-17 </td></tr>\n",
       "\t<tr><th scope=row>y85fem</th><td> 0.0850519706</td><td>5.130896e-02 </td><td> 1.6576435   </td><td>9.768121e-02 </td></tr>\n",
       "</tbody>\n",
       "</table>\n"
      ],
      "text/latex": [
       "\\begin{tabular}{r|llll}\n",
       "  & Estimate & Std. Error & t value & Pr(>\\textbar{}t\\textbar{})\\\\\n",
       "\\hline\n",
       "\t(Intercept) &  0.4589328832 & 9.344850e-02  &  4.9110781    & 1.046281e-06 \\\\\n",
       "\ty85 &  0.1178062179 & 1.237817e-01  &  0.9517254    & 3.414502e-01 \\\\\n",
       "\teduc &  0.0747209129 & 6.676431e-03  & 11.1917443    & 1.399530e-27 \\\\\n",
       "\ty85educ &  0.0184605323 & 9.354169e-03  &  1.9735085    & 4.869344e-02 \\\\\n",
       "\texper &  0.0295843067 & 3.567312e-03  &  8.2931650    & 3.266999e-16 \\\\\n",
       "\texpersq & -0.0003994278 & 7.753912e-05  & -5.1513072    & 3.075711e-07 \\\\\n",
       "\tunion &  0.2021318735 & 3.029449e-02  &  6.6722331    & 4.025626e-11 \\\\\n",
       "\tfemale & -0.3167086481 & 3.662145e-02  & -8.6481733    & 1.876348e-17 \\\\\n",
       "\ty85fem &  0.0850519706 & 5.130896e-02  &  1.6576435    & 9.768121e-02 \\\\\n",
       "\\end{tabular}\n"
      ],
      "text/markdown": [
       "\n",
       "| <!--/--> | Estimate | Std. Error | t value | Pr(>|t|) | \n",
       "|---|---|---|---|---|---|---|---|---|\n",
       "| (Intercept) |  0.4589328832 | 9.344850e-02  |  4.9110781    | 1.046281e-06  | \n",
       "| y85 |  0.1178062179 | 1.237817e-01  |  0.9517254    | 3.414502e-01  | \n",
       "| educ |  0.0747209129 | 6.676431e-03  | 11.1917443    | 1.399530e-27  | \n",
       "| y85educ |  0.0184605323 | 9.354169e-03  |  1.9735085    | 4.869344e-02  | \n",
       "| exper |  0.0295843067 | 3.567312e-03  |  8.2931650    | 3.266999e-16  | \n",
       "| expersq | -0.0003994278 | 7.753912e-05  | -5.1513072    | 3.075711e-07  | \n",
       "| union |  0.2021318735 | 3.029449e-02  |  6.6722331    | 4.025626e-11  | \n",
       "| female | -0.3167086481 | 3.662145e-02  | -8.6481733    | 1.876348e-17  | \n",
       "| y85fem |  0.0850519706 | 5.130896e-02  |  1.6576435    | 9.768121e-02  | \n",
       "\n",
       "\n"
      ],
      "text/plain": [
       "            Estimate      Std. Error   t value    Pr(>|t|)    \n",
       "(Intercept)  0.4589328832 9.344850e-02  4.9110781 1.046281e-06\n",
       "y85          0.1178062179 1.237817e-01  0.9517254 3.414502e-01\n",
       "educ         0.0747209129 6.676431e-03 11.1917443 1.399530e-27\n",
       "y85educ      0.0184605323 9.354169e-03  1.9735085 4.869344e-02\n",
       "exper        0.0295843067 3.567312e-03  8.2931650 3.266999e-16\n",
       "expersq     -0.0003994278 7.753912e-05 -5.1513072 3.075711e-07\n",
       "union        0.2021318735 3.029449e-02  6.6722331 4.025626e-11\n",
       "female      -0.3167086481 3.662145e-02 -8.6481733 1.876348e-17\n",
       "y85fem       0.0850519706 5.130896e-02  1.6576435 9.768121e-02"
      ]
     },
     "metadata": {},
     "output_type": "display_data"
    }
   ],
   "source": [
    "load(\"data/cps78_85.RData\")\n",
    "cps78_85 <- data\n",
    "rm('data','desc')\n",
    "mod13_2 <- lm(data = cps78_85, lwage ~ y85 + educ + y85educ + exper + expersq \n",
    "              +union + female + y85fem)\n",
    "summary(mod13_2)$coefficients"
   ]
  },
  {
   "cell_type": "markdown",
   "metadata": {},
   "source": [
    ">i)El coeficiente $y85$ en la ecuación $13.2$ refleja el control de el año 1985 en la\n",
    "base de datos, a lo que representa la proporción de cambio del salario a través \n",
    "del tiempo correspondiente a 1985 cuando son hombres o en su caso la variable famale\n",
    "tiene el valor 0 al igual que las demás variables binarias, en tanto a su relevancia\n",
    "sería pequeña debido a que sólo explicaría una parte muy pequeña de la muestra.\n"
   ]
  },
  {
   "cell_type": "code",
   "execution_count": 86,
   "metadata": {
    "scrolled": true
   },
   "outputs": [
    {
     "data": {
      "text/html": [
       "<table>\n",
       "<thead><tr><th></th><th scope=col>Estimate</th><th scope=col>Std. Error</th><th scope=col>t value</th><th scope=col>Pr(&gt;|t|)</th></tr></thead>\n",
       "<tbody>\n",
       "\t<tr><th scope=row>(Intercept)</th><td> 0.4589328832</td><td>9.344850e-02 </td><td> 4.911078    </td><td>1.046281e-06 </td></tr>\n",
       "\t<tr><th scope=row>y85</th><td> 0.3393326055</td><td>3.400990e-02 </td><td> 9.977466    </td><td>1.753665e-22 </td></tr>\n",
       "\t<tr><th scope=row>educ</th><td> 0.0747209129</td><td>6.676431e-03 </td><td>11.191744    </td><td>1.399530e-27 </td></tr>\n",
       "\t<tr><th scope=row>I(y85 * I(educ - 12))</th><td> 0.0184605323</td><td>9.354169e-03 </td><td> 1.973508    </td><td>4.869344e-02 </td></tr>\n",
       "\t<tr><th scope=row>exper</th><td> 0.0295843067</td><td>3.567312e-03 </td><td> 8.293165    </td><td>3.266999e-16 </td></tr>\n",
       "\t<tr><th scope=row>expersq</th><td>-0.0003994278</td><td>7.753912e-05 </td><td>-5.151307    </td><td>3.075711e-07 </td></tr>\n",
       "\t<tr><th scope=row>union</th><td> 0.2021318735</td><td>3.029449e-02 </td><td> 6.672233    </td><td>4.025626e-11 </td></tr>\n",
       "\t<tr><th scope=row>female</th><td>-0.3167086481</td><td>3.662145e-02 </td><td>-8.648173    </td><td>1.876348e-17 </td></tr>\n",
       "\t<tr><th scope=row>y85fem</th><td> 0.0850519706</td><td>5.130896e-02 </td><td> 1.657644    </td><td>9.768121e-02 </td></tr>\n",
       "</tbody>\n",
       "</table>\n"
      ],
      "text/latex": [
       "\\begin{tabular}{r|llll}\n",
       "  & Estimate & Std. Error & t value & Pr(>\\textbar{}t\\textbar{})\\\\\n",
       "\\hline\n",
       "\t(Intercept) &  0.4589328832 & 9.344850e-02  &  4.911078     & 1.046281e-06 \\\\\n",
       "\ty85 &  0.3393326055 & 3.400990e-02  &  9.977466     & 1.753665e-22 \\\\\n",
       "\teduc &  0.0747209129 & 6.676431e-03  & 11.191744     & 1.399530e-27 \\\\\n",
       "\tI(y85 * I(educ - 12)) &  0.0184605323 & 9.354169e-03  &  1.973508     & 4.869344e-02 \\\\\n",
       "\texper &  0.0295843067 & 3.567312e-03  &  8.293165     & 3.266999e-16 \\\\\n",
       "\texpersq & -0.0003994278 & 7.753912e-05  & -5.151307     & 3.075711e-07 \\\\\n",
       "\tunion &  0.2021318735 & 3.029449e-02  &  6.672233     & 4.025626e-11 \\\\\n",
       "\tfemale & -0.3167086481 & 3.662145e-02  & -8.648173     & 1.876348e-17 \\\\\n",
       "\ty85fem &  0.0850519706 & 5.130896e-02  &  1.657644     & 9.768121e-02 \\\\\n",
       "\\end{tabular}\n"
      ],
      "text/markdown": [
       "\n",
       "| <!--/--> | Estimate | Std. Error | t value | Pr(>|t|) | \n",
       "|---|---|---|---|---|---|---|---|---|\n",
       "| (Intercept) |  0.4589328832 | 9.344850e-02  |  4.911078     | 1.046281e-06  | \n",
       "| y85 |  0.3393326055 | 3.400990e-02  |  9.977466     | 1.753665e-22  | \n",
       "| educ |  0.0747209129 | 6.676431e-03  | 11.191744     | 1.399530e-27  | \n",
       "| I(y85 * I(educ - 12)) |  0.0184605323 | 9.354169e-03  |  1.973508     | 4.869344e-02  | \n",
       "| exper |  0.0295843067 | 3.567312e-03  |  8.293165     | 3.266999e-16  | \n",
       "| expersq | -0.0003994278 | 7.753912e-05  | -5.151307     | 3.075711e-07  | \n",
       "| union |  0.2021318735 | 3.029449e-02  |  6.672233     | 4.025626e-11  | \n",
       "| female | -0.3167086481 | 3.662145e-02  | -8.648173     | 1.876348e-17  | \n",
       "| y85fem |  0.0850519706 | 5.130896e-02  |  1.657644     | 9.768121e-02  | \n",
       "\n",
       "\n"
      ],
      "text/plain": [
       "                      Estimate      Std. Error   t value   Pr(>|t|)    \n",
       "(Intercept)            0.4589328832 9.344850e-02  4.911078 1.046281e-06\n",
       "y85                    0.3393326055 3.400990e-02  9.977466 1.753665e-22\n",
       "educ                   0.0747209129 6.676431e-03 11.191744 1.399530e-27\n",
       "I(y85 * I(educ - 12))  0.0184605323 9.354169e-03  1.973508 4.869344e-02\n",
       "exper                  0.0295843067 3.567312e-03  8.293165 3.266999e-16\n",
       "expersq               -0.0003994278 7.753912e-05 -5.151307 3.075711e-07\n",
       "union                  0.2021318735 3.029449e-02  6.672233 4.025626e-11\n",
       "female                -0.3167086481 3.662145e-02 -8.648173 1.876348e-17\n",
       "y85fem                 0.0850519706 5.130896e-02  1.657644 9.768121e-02"
      ]
     },
     "metadata": {},
     "output_type": "display_data"
    }
   ],
   "source": [
    "mod13_22 <- lm(data=cps78_85, lwage~ y85 + educ + I(y85*I(educ-12)) + exper\n",
    "               + expersq + union + female + y85fem)\n",
    "summary(mod13_22)$coefficients"
   ]
  },
  {
   "cell_type": "markdown",
   "metadata": {},
   "source": [
    ">ii) Queriendo saber cúal es el incremento porcentual en el salario de un hombre con\n",
    "12 años de educación, entonces sería el cambio natural por el tiempo más el\n",
    "cambio porcentual al tener 12 años de educación, como cambia el intercepto en 1985 \n",
    "para un hombre con 12 años de educación, a lo el coeficiente estimado de y85 \n",
    "con estas especificaciones es de .339 con una alta significatividad.\n",
    "$0.3393±(1.96*0.03401)$\n",
    "$$IC_{95} (0.2726404, 0.4059596)$$\n",
    "El incremento nominal es de $33.93%$ y el intervalo de confianza al $95%$ es de $$IC_{95} (0.2726404, 0.4059596)$$ que es $27.26%$ a $40.60%$\n"
   ]
  },
  {
   "cell_type": "markdown",
   "metadata": {},
   "source": [
    ">iii) \n",
    "ecuación de modelo nominal\n",
    "$y85\\; 0.118\\;  se\\;\\simeq{.124}$\n",
    "y la ecuación de modelo real\n",
    "$$y85\\; -0.383\\; se\\;\\simeq{.124}$$\n",
    ">aquí lo que muestra la disminución de los salarios reales a través de 1978 a 1985. a diferencia de la nominal que hay una aumento en los salarios, a lo que se ve que a subido pero no proporcional al aumento de los precios.\n",
    "\n"
   ]
  },
  {
   "cell_type": "code",
   "execution_count": 87,
   "metadata": {},
   "outputs": [
    {
     "data": {
      "text/html": [
       "<table>\n",
       "<thead><tr><th></th><th scope=col>Estimate</th><th scope=col>Std. Error</th><th scope=col>t value</th><th scope=col>Pr(&gt;|t|)</th></tr></thead>\n",
       "<tbody>\n",
       "\t<tr><th scope=row>(Intercept)</th><td> 0.4589328832</td><td>9.344850e-02 </td><td> 4.911078    </td><td>1.046281e-06 </td></tr>\n",
       "\t<tr><th scope=row>y85</th><td>-0.3829690700</td><td>1.237817e-01 </td><td>-3.093906    </td><td>2.026406e-03 </td></tr>\n",
       "\t<tr><th scope=row>educ</th><td> 0.0747209129</td><td>6.676431e-03 </td><td>11.191744    </td><td>1.399530e-27 </td></tr>\n",
       "\t<tr><th scope=row>y85educ</th><td> 0.0184605323</td><td>9.354169e-03 </td><td> 1.973508    </td><td>4.869344e-02 </td></tr>\n",
       "\t<tr><th scope=row>exper</th><td> 0.0295843067</td><td>3.567312e-03 </td><td> 8.293165    </td><td>3.266999e-16 </td></tr>\n",
       "\t<tr><th scope=row>expersq</th><td>-0.0003994278</td><td>7.753912e-05 </td><td>-5.151307    </td><td>3.075711e-07 </td></tr>\n",
       "\t<tr><th scope=row>union</th><td> 0.2021318735</td><td>3.029449e-02 </td><td> 6.672233    </td><td>4.025626e-11 </td></tr>\n",
       "\t<tr><th scope=row>female</th><td>-0.3167086481</td><td>3.662145e-02 </td><td>-8.648173    </td><td>1.876348e-17 </td></tr>\n",
       "\t<tr><th scope=row>y85fem</th><td> 0.0850519706</td><td>5.130896e-02 </td><td> 1.657644    </td><td>9.768121e-02 </td></tr>\n",
       "</tbody>\n",
       "</table>\n"
      ],
      "text/latex": [
       "\\begin{tabular}{r|llll}\n",
       "  & Estimate & Std. Error & t value & Pr(>\\textbar{}t\\textbar{})\\\\\n",
       "\\hline\n",
       "\t(Intercept) &  0.4589328832 & 9.344850e-02  &  4.911078     & 1.046281e-06 \\\\\n",
       "\ty85 & -0.3829690700 & 1.237817e-01  & -3.093906     & 2.026406e-03 \\\\\n",
       "\teduc &  0.0747209129 & 6.676431e-03  & 11.191744     & 1.399530e-27 \\\\\n",
       "\ty85educ &  0.0184605323 & 9.354169e-03  &  1.973508     & 4.869344e-02 \\\\\n",
       "\texper &  0.0295843067 & 3.567312e-03  &  8.293165     & 3.266999e-16 \\\\\n",
       "\texpersq & -0.0003994278 & 7.753912e-05  & -5.151307     & 3.075711e-07 \\\\\n",
       "\tunion &  0.2021318735 & 3.029449e-02  &  6.672233     & 4.025626e-11 \\\\\n",
       "\tfemale & -0.3167086481 & 3.662145e-02  & -8.648173     & 1.876348e-17 \\\\\n",
       "\ty85fem &  0.0850519706 & 5.130896e-02  &  1.657644     & 9.768121e-02 \\\\\n",
       "\\end{tabular}\n"
      ],
      "text/markdown": [
       "\n",
       "| <!--/--> | Estimate | Std. Error | t value | Pr(>|t|) | \n",
       "|---|---|---|---|---|---|---|---|---|\n",
       "| (Intercept) |  0.4589328832 | 9.344850e-02  |  4.911078     | 1.046281e-06  | \n",
       "| y85 | -0.3829690700 | 1.237817e-01  | -3.093906     | 2.026406e-03  | \n",
       "| educ |  0.0747209129 | 6.676431e-03  | 11.191744     | 1.399530e-27  | \n",
       "| y85educ |  0.0184605323 | 9.354169e-03  |  1.973508     | 4.869344e-02  | \n",
       "| exper |  0.0295843067 | 3.567312e-03  |  8.293165     | 3.266999e-16  | \n",
       "| expersq | -0.0003994278 | 7.753912e-05  | -5.151307     | 3.075711e-07  | \n",
       "| union |  0.2021318735 | 3.029449e-02  |  6.672233     | 4.025626e-11  | \n",
       "| female | -0.3167086481 | 3.662145e-02  | -8.648173     | 1.876348e-17  | \n",
       "| y85fem |  0.0850519706 | 5.130896e-02  |  1.657644     | 9.768121e-02  | \n",
       "\n",
       "\n"
      ],
      "text/plain": [
       "            Estimate      Std. Error   t value   Pr(>|t|)    \n",
       "(Intercept)  0.4589328832 9.344850e-02  4.911078 1.046281e-06\n",
       "y85         -0.3829690700 1.237817e-01 -3.093906 2.026406e-03\n",
       "educ         0.0747209129 6.676431e-03 11.191744 1.399530e-27\n",
       "y85educ      0.0184605323 9.354169e-03  1.973508 4.869344e-02\n",
       "exper        0.0295843067 3.567312e-03  8.293165 3.266999e-16\n",
       "expersq     -0.0003994278 7.753912e-05 -5.151307 3.075711e-07\n",
       "union        0.2021318735 3.029449e-02  6.672233 4.025626e-11\n",
       "female      -0.3167086481 3.662145e-02 -8.648173 1.876348e-17\n",
       "y85fem       0.0850519706 5.130896e-02  1.657644 9.768121e-02"
      ]
     },
     "metadata": {},
     "output_type": "display_data"
    }
   ],
   "source": [
    "library(dplyr)\n",
    "cps78_85 <- cps78_85 %>% mutate(wage=exp(lwage))\n",
    "cps78_85 <- cps78_85 %>% mutate(rwage= if_else(year == 78, wage, wage/1.65))\n",
    "mod13_2r <- lm(data=cps78_85, log(rwage)~y85 + educ + y85educ + exper\n",
    "               + expersq + union + female + y85fem)\n",
    "summary(mod13_2r)$coefficients\n"
   ]
  },
  {
   "cell_type": "markdown",
   "metadata": {},
   "source": [
    ">iv)\n",
    "modelo 13.2\n",
    "Residual standard error: $0.4127$ on $1075$ degrees of freedom\n",
    "Multiple R-squared:  $0.4262$,\tAdjusted R-squared:  $0.4219$\n",
    "\n",
    ">modelo 13.2(iii)\n",
    "Residual standard error: $0.4127$ on $1075$ degrees of freedom\n",
    "Multiple R-squared:  $0.3562$,\tAdjusted R-squared:  $0.3514$\n",
    "\n",
    ">Comparando el $R^2$ del modelo con datos reales es de $.3562$ y para el nominal $.4262$, así se diferencian por a suma de los totales al cuadrado.\n"
   ]
  },
  {
   "cell_type": "markdown",
   "metadata": {},
   "source": [
    ">v) Para 1978 había 168 afiliaciones de los 550 trabajadores representando un 30.5% afiliados, y para 1985 con una muestra de 534, solo habia 96 trabajadores afiliados, representando un 18%.\n",
    "haciendo la comparación en porcentaje cayeron las afiliaciones por 12.5% en 7 años"
   ]
  },
  {
   "cell_type": "code",
   "execution_count": 88,
   "metadata": {},
   "outputs": [
    {
     "data": {
      "text/html": [
       "<table>\n",
       "<thead><tr><th></th><th scope=col>Estimate</th><th scope=col>Std. Error</th><th scope=col>t value</th><th scope=col>Pr(&gt;|t|)</th></tr></thead>\n",
       "<tbody>\n",
       "\t<tr><th scope=row>(Intercept)</th><td> 0.4588400102</td><td>9.458042e-02 </td><td> 4.851321416 </td><td>1.407542e-06 </td></tr>\n",
       "\t<tr><th scope=row>y85</th><td> 0.1179666851</td><td>1.262826e-01 </td><td> 0.934148535 </td><td>3.504372e-01 </td></tr>\n",
       "\t<tr><th scope=row>educ</th><td> 0.0747240557</td><td>6.697063e-03 </td><td>11.157735441 </td><td>1.978325e-27 </td></tr>\n",
       "\t<tr><th scope=row>y85educ</th><td> 0.0184566351</td><td>9.377761e-03 </td><td> 1.968128179 </td><td>4.931022e-02 </td></tr>\n",
       "\t<tr><th scope=row>exper</th><td> 0.0295840011</td><td>3.569283e-03 </td><td> 8.288500628 </td><td>3.392957e-16 </td></tr>\n",
       "\t<tr><th scope=row>expersq</th><td>-0.0003994210</td><td>7.758224e-05 </td><td>-5.148356567 </td><td>3.123788e-07 </td></tr>\n",
       "\t<tr><th scope=row>union</th><td> 0.2022920534</td><td>3.908364e-02 </td><td> 5.175875546 </td><td>2.706260e-07 </td></tr>\n",
       "\t<tr><th scope=row>y85union</th><td>-0.0003962278</td><td>6.104037e-02 </td><td>-0.006491241 </td><td>9.948220e-01 </td></tr>\n",
       "\t<tr><th scope=row>female</th><td>-0.3166908908</td><td>3.674048e-02 </td><td>-8.619672833 </td><td>2.371608e-17 </td></tr>\n",
       "\t<tr><th scope=row>y85fem</th><td> 0.0850056955</td><td>5.182549e-02 </td><td> 1.640229478 </td><td>1.012503e-01 </td></tr>\n",
       "</tbody>\n",
       "</table>\n"
      ],
      "text/latex": [
       "\\begin{tabular}{r|llll}\n",
       "  & Estimate & Std. Error & t value & Pr(>\\textbar{}t\\textbar{})\\\\\n",
       "\\hline\n",
       "\t(Intercept) &  0.4588400102 & 9.458042e-02  &  4.851321416  & 1.407542e-06 \\\\\n",
       "\ty85 &  0.1179666851 & 1.262826e-01  &  0.934148535  & 3.504372e-01 \\\\\n",
       "\teduc &  0.0747240557 & 6.697063e-03  & 11.157735441  & 1.978325e-27 \\\\\n",
       "\ty85educ &  0.0184566351 & 9.377761e-03  &  1.968128179  & 4.931022e-02 \\\\\n",
       "\texper &  0.0295840011 & 3.569283e-03  &  8.288500628  & 3.392957e-16 \\\\\n",
       "\texpersq & -0.0003994210 & 7.758224e-05  & -5.148356567  & 3.123788e-07 \\\\\n",
       "\tunion &  0.2022920534 & 3.908364e-02  &  5.175875546  & 2.706260e-07 \\\\\n",
       "\ty85union & -0.0003962278 & 6.104037e-02  & -0.006491241  & 9.948220e-01 \\\\\n",
       "\tfemale & -0.3166908908 & 3.674048e-02  & -8.619672833  & 2.371608e-17 \\\\\n",
       "\ty85fem &  0.0850056955 & 5.182549e-02  &  1.640229478  & 1.012503e-01 \\\\\n",
       "\\end{tabular}\n"
      ],
      "text/markdown": [
       "\n",
       "| <!--/--> | Estimate | Std. Error | t value | Pr(>|t|) | \n",
       "|---|---|---|---|---|---|---|---|---|---|\n",
       "| (Intercept) |  0.4588400102 | 9.458042e-02  |  4.851321416  | 1.407542e-06  | \n",
       "| y85 |  0.1179666851 | 1.262826e-01  |  0.934148535  | 3.504372e-01  | \n",
       "| educ |  0.0747240557 | 6.697063e-03  | 11.157735441  | 1.978325e-27  | \n",
       "| y85educ |  0.0184566351 | 9.377761e-03  |  1.968128179  | 4.931022e-02  | \n",
       "| exper |  0.0295840011 | 3.569283e-03  |  8.288500628  | 3.392957e-16  | \n",
       "| expersq | -0.0003994210 | 7.758224e-05  | -5.148356567  | 3.123788e-07  | \n",
       "| union |  0.2022920534 | 3.908364e-02  |  5.175875546  | 2.706260e-07  | \n",
       "| y85union | -0.0003962278 | 6.104037e-02  | -0.006491241  | 9.948220e-01  | \n",
       "| female | -0.3166908908 | 3.674048e-02  | -8.619672833  | 2.371608e-17  | \n",
       "| y85fem |  0.0850056955 | 5.182549e-02  |  1.640229478  | 1.012503e-01  | \n",
       "\n",
       "\n"
      ],
      "text/plain": [
       "            Estimate      Std. Error   t value      Pr(>|t|)    \n",
       "(Intercept)  0.4588400102 9.458042e-02  4.851321416 1.407542e-06\n",
       "y85          0.1179666851 1.262826e-01  0.934148535 3.504372e-01\n",
       "educ         0.0747240557 6.697063e-03 11.157735441 1.978325e-27\n",
       "y85educ      0.0184566351 9.377761e-03  1.968128179 4.931022e-02\n",
       "exper        0.0295840011 3.569283e-03  8.288500628 3.392957e-16\n",
       "expersq     -0.0003994210 7.758224e-05 -5.148356567 3.123788e-07\n",
       "union        0.2022920534 3.908364e-02  5.175875546 2.706260e-07\n",
       "y85union    -0.0003962278 6.104037e-02 -0.006491241 9.948220e-01\n",
       "female      -0.3166908908 3.674048e-02 -8.619672833 2.371608e-17\n",
       "y85fem       0.0850056955 5.182549e-02  1.640229478 1.012503e-01"
      ]
     },
     "metadata": {},
     "output_type": "display_data"
    }
   ],
   "source": [
    "mod13_2u <- lm(data = cps78_85, lwage ~ y85 + educ + y85educ + exper + expersq \n",
    "              +union + y85union + female + y85fem)\n",
    "summary(mod13_2u)$coefficients"
   ]
  },
  {
   "cell_type": "markdown",
   "metadata": {},
   "source": [
    ">iv) $y85union$ al parecer tiene un disminución del alrededor de $.0004$ en la prima salarial, sin embargo al revisar su significatividad, notamos que su estadístico $t$ es muy bajo, a lo que no se rechaza $H0$, considerando que el coeficiente del término de interacción es 0"
   ]
  },
  {
   "cell_type": "markdown",
   "metadata": {},
   "source": [
    "> vii) Se considera que no tiene algún inconveniente, como marca de manera explicativa, solo representa que hay una disminución en las personas que perciben este beneficio"
   ]
  },
  {
   "cell_type": "markdown",
   "metadata": {},
   "source": [
    "##ejercicio 3\n"
   ]
  },
  {
   "cell_type": "code",
   "execution_count": 89,
   "metadata": {},
   "outputs": [
    {
     "data": {
      "text/html": [
       "<table>\n",
       "<thead><tr><th></th><th scope=col>Estimate</th><th scope=col>Std. Error</th><th scope=col>t value</th><th scope=col>Pr(&gt;|t|)</th></tr></thead>\n",
       "<tbody>\n",
       "\t<tr><th scope=row>(Intercept)</th><td> 8.05846783 </td><td>0.50843581  </td><td>15.84952856 </td><td>4.519980e-42</td></tr>\n",
       "\t<tr><th scope=row>y81</th><td>-0.01131009 </td><td>0.80506217  </td><td>-0.01404872 </td><td>9.888000e-01</td></tr>\n",
       "\t<tr><th scope=row>ldist</th><td> 0.31668901 </td><td>0.05153226  </td><td> 6.14545179 </td><td>2.391654e-09</td></tr>\n",
       "\t<tr><th scope=row>y81ldist</th><td> 0.04818618 </td><td>0.08179290  </td><td> 0.58912422 </td><td>5.561975e-01</td></tr>\n",
       "</tbody>\n",
       "</table>\n"
      ],
      "text/latex": [
       "\\begin{tabular}{r|llll}\n",
       "  & Estimate & Std. Error & t value & Pr(>\\textbar{}t\\textbar{})\\\\\n",
       "\\hline\n",
       "\t(Intercept) &  8.05846783  & 0.50843581   & 15.84952856  & 4.519980e-42\\\\\n",
       "\ty81 & -0.01131009  & 0.80506217   & -0.01404872  & 9.888000e-01\\\\\n",
       "\tldist &  0.31668901  & 0.05153226   &  6.14545179  & 2.391654e-09\\\\\n",
       "\ty81ldist &  0.04818618  & 0.08179290   &  0.58912422  & 5.561975e-01\\\\\n",
       "\\end{tabular}\n"
      ],
      "text/markdown": [
       "\n",
       "| <!--/--> | Estimate | Std. Error | t value | Pr(>|t|) | \n",
       "|---|---|---|---|\n",
       "| (Intercept) |  8.05846783  | 0.50843581   | 15.84952856  | 4.519980e-42 | \n",
       "| y81 | -0.01131009  | 0.80506217   | -0.01404872  | 9.888000e-01 | \n",
       "| ldist |  0.31668901  | 0.05153226   |  6.14545179  | 2.391654e-09 | \n",
       "| y81ldist |  0.04818618  | 0.08179290   |  0.58912422  | 5.561975e-01 | \n",
       "\n",
       "\n"
      ],
      "text/plain": [
       "            Estimate    Std. Error t value     Pr(>|t|)    \n",
       "(Intercept)  8.05846783 0.50843581 15.84952856 4.519980e-42\n",
       "y81         -0.01131009 0.80506217 -0.01404872 9.888000e-01\n",
       "ldist        0.31668901 0.05153226  6.14545179 2.391654e-09\n",
       "y81ldist     0.04818618 0.08179290  0.58912422 5.561975e-01"
      ]
     },
     "metadata": {},
     "output_type": "display_data"
    }
   ],
   "source": [
    "library('stats')\n",
    "library('car')\n",
    "load(\"data/kielmc.RData\")\n",
    "kielmc <- data\n",
    "rm('data', 'desc')\n",
    "mod3_1 <- lm(data = kielmc, lprice ~ y81 + ldist + y81ldist)\n",
    "summary(mod3_1)$coefficients\n"
   ]
  },
  {
   "cell_type": "markdown",
   "metadata": {},
   "source": [
    ">i)\n",
    ">Para $\\delta_1$ el signo es positivo es decir que si la vivienda está más lejana al \n",
    "incinerador, el precio de esta aumenta, y siendo $\\beta_1$ positivo quiere decir que el\n",
    "incinerador fue construido lejos de las casas más valiosas."
   ]
  },
  {
   "cell_type": "markdown",
   "metadata": {},
   "source": [
    ">ii)\n",
    "$y81*\\log(dist)$ representa el cambio en el valor de las casas cuando\n",
    "el incinerado ya esta construido, dependiendo a la lejanía de la finca con el \n",
    "incinerador."
   ]
  },
  {
   "cell_type": "code",
   "execution_count": 62,
   "metadata": {},
   "outputs": [
    {
     "ename": "ERROR",
     "evalue": "Error in is.data.frame(data): object 'kielmc' not found\n",
     "output_type": "error",
     "traceback": [
      "Error in is.data.frame(data): object 'kielmc' not found\nTraceback:\n",
      "1. lm(data = kielmc, lprice ~ y81 + ldist + y81ldist + age + agesq + \n .     rooms + baths + lintst + lland + larea)",
      "2. eval(mf, parent.frame())",
      "3. eval(expr, envir, enclos)",
      "4. stats::model.frame(formula = lprice ~ y81 + ldist + y81ldist + \n .     age + agesq + rooms + baths + lintst + lland + larea, data = kielmc, \n .     drop.unused.levels = TRUE)",
      "5. model.frame.default(formula = lprice ~ y81 + ldist + y81ldist + \n .     age + agesq + rooms + baths + lintst + lland + larea, data = kielmc, \n .     drop.unused.levels = TRUE)",
      "6. is.data.frame(data)"
     ]
    }
   ],
   "source": [
    "mod3_2 <- lm(data = kielmc, lprice ~ y81 + ldist + y81ldist + age + agesq + rooms + baths + lintst + lland + larea )\n",
    "summary(mod3_2)$coefficients\n",
    "\n"
   ]
  },
  {
   "cell_type": "markdown",
   "metadata": {},
   "source": [
    ">iii)\n",
    "Al realizar las demás características de valuación de las casas, se muestran\n",
    "que al parecer, las apreciaciones que están en función del incinerador, no son \n",
    "estadísticamente significativas, en realidad, el valor de las casas es más \n",
    "relevante por la cantidad de baños, el área y la antigüedad, que por la cercanía\n",
    "o la existencia del incinerador."
   ]
  },
  {
   "cell_type": "markdown",
   "metadata": {},
   "source": [
    ">iv)\n",
    "Es posible que entre las mismas variables exista una cercana tendencia \n",
    "que capte e interprete significatividad, sin embargo al meter las demás variables\n",
    "que explican más a detalle el valor de las casas, no existe estadísticamente \n",
    "una relación del precio de las casas.\n"
   ]
  },
  {
   "cell_type": "markdown",
   "metadata": {},
   "source": [
    "##Ejercicio 5"
   ]
  },
  {
   "cell_type": "code",
   "execution_count": null,
   "metadata": {},
   "outputs": [],
   "source": [
    "library('stats')\n",
    "library('car')\n",
    "load(\"data/rental.RData\")\n",
    "rental <- data\n",
    "rm('data','desc')\n",
    "mod_rental <- lm(data=rental, lrent ~ y90 + lpop + lavginc + pctstu)\n",
    "summary(mod_rental)$coefficients\n",
    "\n"
   ]
  },
  {
   "cell_type": "markdown",
   "metadata": {},
   "source": [
    ">i) \n",
    "Para el coeficiente de y90, que es de .262 y es significativo, quiere decir\n",
    "que manteniendo todo fijo, el efecto del tiempo en las rentas crecio en 10 años \n",
    "al rededor de un 26%, para pctstu siendo el porcentaje de estudiantes de \n",
    "la poblacion de la ciudad el durante el año escolar es positivo y ademas\n",
    "significativo,a lo que hace setido que si incremente en 1% el porcentaje de \n",
    "estudiantes en la ciudad, las rentas aumentaran cerca de medio porciento."
   ]
  },
  {
   "cell_type": "markdown",
   "metadata": {},
   "source": [
    ">ii) \n",
    "Bajo el modelo\n",
    "$$lrentit = y90t + lpopit + lavgincit + pctstuit + a_i + u_{it}$$ existe la parte de efectos\n",
    "fijos que pueden o no estar en los errores lo que puede ocasionar autocorrelación \n",
    "lo que provocaría invalidades en los errores y las t_s no serían correctas."
   ]
  },
  {
   "cell_type": "code",
   "execution_count": null,
   "metadata": {},
   "outputs": [],
   "source": [
    "rental_pan <- pdata.frame(rental, index = c(\"city\", \"year\"))\n",
    "\n",
    "mod_rental_pan <- plm(data=rental_pan,lrent ~ y90 + lpop + lavginc \n",
    "                      + pctstu, model ='fd')\n",
    "stargazer(mod_rental_pan, mod_rental, title=\"Resultados\", align=TRUE, type = 'text')\n"
   ]
  },
  {
   "cell_type": "markdown",
   "metadata": {},
   "source": [
    ">iii)modelo agregado $pctstu\\; 0.005044$ , modelo con diferencia $pctstu \\; 0.0187151$ apesar que pierde significatividad, el coeficiente aumenta alrededor de un 1.3%, al eliminar los efectos fijos, notamos una mayor fuerza en el aumento de del porcentaje de estudiantes por ciudad."
   ]
  },
  {
   "cell_type": "code",
   "execution_count": null,
   "metadata": {},
   "outputs": [],
   "source": []
  },
  {
   "cell_type": "markdown",
   "metadata": {},
   "source": [
    "##Ejercicio 4"
   ]
  },
  {
   "cell_type": "code",
   "execution_count": 63,
   "metadata": {},
   "outputs": [
    {
     "name": "stdout",
     "output_type": "stream",
     "text": [
      "\n",
      "Resultados\n",
      "======================================================================\n",
      "                                   Dependent variable:                \n",
      "                    --------------------------------------------------\n",
      "                                          ldurat                      \n",
      "                              (1)                       (2)           \n",
      "----------------------------------------------------------------------\n",
      "afchnge                      0.008                     0.011          \n",
      "                            (0.045)                   (0.045)         \n",
      "                                                                      \n",
      "highearn                    0.256***                 0.176***         \n",
      "                            (0.047)                   (0.052)         \n",
      "                                                                      \n",
      "afhigh                      0.191***                 0.231***         \n",
      "                            (0.069)                   (0.070)         \n",
      "                                                                      \n",
      "male                                                 -0.098**         \n",
      "                                                      (0.045)         \n",
      "                                                                      \n",
      "married                                              0.122***         \n",
      "                                                      (0.039)         \n",
      "                                                                      \n",
      "head                                                 -0.514***        \n",
      "                                                      (0.129)         \n",
      "                                                                      \n",
      "neck                                                  0.270*          \n",
      "                                                      (0.161)         \n",
      "                                                                      \n",
      "upextr                                                -0.179*         \n",
      "                                                      (0.101)         \n",
      "                                                                      \n",
      "trunk                                                  0.126          \n",
      "                                                      (0.109)         \n",
      "                                                                      \n",
      "lowback                                               -0.009          \n",
      "                                                      (0.102)         \n",
      "                                                                      \n",
      "lowextr                                               -0.120          \n",
      "                                                      (0.102)         \n",
      "                                                                      \n",
      "occdis                                                 0.273          \n",
      "                                                      (0.211)         \n",
      "                                                                      \n",
      "manuf                                                -0.161***        \n",
      "                                                      (0.041)         \n",
      "                                                                      \n",
      "construc                                              0.110**         \n",
      "                                                      (0.052)         \n",
      "                                                                      \n",
      "Constant                    1.126***                 1.246***         \n",
      "                            (0.031)                   (0.106)         \n",
      "                                                                      \n",
      "----------------------------------------------------------------------\n",
      "Observations                 5,626                     5,349          \n",
      "R2                           0.021                     0.041          \n",
      "Adjusted R2                  0.020                     0.039          \n",
      "Residual Std. Error    1.269 (df = 5622)         1.251 (df = 5334)    \n",
      "F Statistic         39.540*** (df = 3; 5622) 16.372*** (df = 14; 5334)\n",
      "======================================================================\n",
      "Note:                                      *p<0.1; **p<0.05; ***p<0.01\n"
     ]
    }
   ],
   "source": [
    "library('stats')\n",
    "load(\"data/injury.RData\")\n",
    "injury <- data\n",
    "rm('data','desc')\n",
    "injuryky <- filter(injury,ky==1)\n",
    "mod13_12ky <- lm(data=injuryky, ldurat~ afchnge + highearn + afhigh)  \n",
    "mod13_12kyc <- lm(data=injuryky, ldurat~ afchnge + highearn + afhigh + male + married + head + neck + upextr + trunk + lowback + lowextr + occdis + manuf + construc)\n",
    "stargazer(mod13_12ky, mod13_12kyc, title=\"Resultados\", align=TRUE, type = 'text')\n"
   ]
  },
  {
   "cell_type": "markdown",
   "metadata": {},
   "source": [
    ">i) $afhigh\\;0.191$ , $afhigh\\;0.231$, agregando las variables de control hay un aumento de alrededor de 5%, el tiempo que reciben una compensación laboral, después del aumento en el límite de ganancias por semanas que cubría por compensación laborales para las personas con mayores ganancias, es decir que es propenso a que lo que más ganan sean cubiertos por mas semanas si sufren un accidente. "
   ]
  },
  {
   "cell_type": "markdown",
   "metadata": {},
   "source": [
    ">ii) reportando una $R^2$ de $0.0412$, $R^2 Adj:\\;0.03868$. representando una explicación de $\\log(Durat)$ de un 4.1%, a lo que se puede considerar que para explicar $\\log(Durat)$ es más complicado y puede que haya terminamos que estemos dejando fuera del modelo.  "
   ]
  },
  {
   "cell_type": "code",
   "execution_count": 64,
   "metadata": {
    "scrolled": false
   },
   "outputs": [
    {
     "data": {
      "text/html": [
       "<table>\n",
       "<thead><tr><th></th><th scope=col>Estimate</th><th scope=col>Std. Error</th><th scope=col>t value</th><th scope=col>Pr(&gt;|t|)</th></tr></thead>\n",
       "<tbody>\n",
       "\t<tr><th scope=row>(Intercept)</th><td>1.41273692   </td><td>0.05671717   </td><td>24.908454    </td><td>3.974972e-115</td></tr>\n",
       "\t<tr><th scope=row>afchnge</th><td>0.09738082   </td><td>0.08478791   </td><td> 1.148522    </td><td> 2.509337e-01</td></tr>\n",
       "\t<tr><th scope=row>highearn</th><td>0.16913878   </td><td>0.10556762   </td><td> 1.602184    </td><td> 1.093227e-01</td></tr>\n",
       "\t<tr><th scope=row>afhigh</th><td>0.19199063   </td><td>0.15416988   </td><td> 1.245319    </td><td> 2.132066e-01</td></tr>\n",
       "</tbody>\n",
       "</table>\n"
      ],
      "text/latex": [
       "\\begin{tabular}{r|llll}\n",
       "  & Estimate & Std. Error & t value & Pr(>\\textbar{}t\\textbar{})\\\\\n",
       "\\hline\n",
       "\t(Intercept) & 1.41273692    & 0.05671717    & 24.908454     & 3.974972e-115\\\\\n",
       "\tafchnge & 0.09738082    & 0.08478791    &  1.148522     &  2.509337e-01\\\\\n",
       "\thighearn & 0.16913878    & 0.10556762    &  1.602184     &  1.093227e-01\\\\\n",
       "\tafhigh & 0.19199063    & 0.15416988    &  1.245319     &  2.132066e-01\\\\\n",
       "\\end{tabular}\n"
      ],
      "text/markdown": [
       "\n",
       "| <!--/--> | Estimate | Std. Error | t value | Pr(>|t|) | \n",
       "|---|---|---|---|\n",
       "| (Intercept) | 1.41273692    | 0.05671717    | 24.908454     | 3.974972e-115 | \n",
       "| afchnge | 0.09738082    | 0.08478791    |  1.148522     |  2.509337e-01 | \n",
       "| highearn | 0.16913878    | 0.10556762    |  1.602184     |  1.093227e-01 | \n",
       "| afhigh | 0.19199063    | 0.15416988    |  1.245319     |  2.132066e-01 | \n",
       "\n",
       "\n"
      ],
      "text/plain": [
       "            Estimate   Std. Error t value   Pr(>|t|)     \n",
       "(Intercept) 1.41273692 0.05671717 24.908454 3.974972e-115\n",
       "afchnge     0.09738082 0.08478791  1.148522  2.509337e-01\n",
       "highearn    0.16913878 0.10556762  1.602184  1.093227e-01\n",
       "afhigh      0.19199063 0.15416988  1.245319  2.132066e-01"
      ]
     },
     "metadata": {},
     "output_type": "display_data"
    }
   ],
   "source": [
    "injurymi <- filter(injury,mi==1)\n",
    "mod13_12mi <- lm(data=injurymi, ldurat~ afchnge + highearn + afhigh )\n",
    "summary(mod13_12mi)$coefficients"
   ]
  },
  {
   "cell_type": "markdown",
   "metadata": {},
   "source": [
    ">iii) $afhigh\\; 0.192$ hay un aumento en comparación a los datos de KY sin embargo no son significativos al 10%, puede ser además porque la muestra de kentucky es mucho mayor a la de Michigan."
   ]
  },
  {
   "cell_type": "markdown",
   "metadata": {},
   "source": [
    "##ejercicio 6"
   ]
  },
  {
   "cell_type": "code",
   "execution_count": 65,
   "metadata": {},
   "outputs": [
    {
     "name": "stdout",
     "output_type": "stream",
     "text": [
      "\n",
      "Resultados\n",
      "===========================================================================================\n",
      "                                              Dependent variable:                          \n",
      "                     ----------------------------------------------------------------------\n",
      "                                         lcrime                             clcrime        \n",
      "                               (1)                     (2)                    (3)          \n",
      "-------------------------------------------------------------------------------------------\n",
      "d78                          -0.055                  -0.055                                \n",
      "                             (0.094)                 (0.094)                               \n",
      "                                                                                           \n",
      "clrprc1                     -0.018***                -0.001                                \n",
      "                             (0.005)                 (0.010)                               \n",
      "                                                                                           \n",
      "clrprc2                     -0.017***                                                      \n",
      "                             (0.005)                                                       \n",
      "                                                                                           \n",
      "I(clrprc1 + clrprc2)                                -0.017***                              \n",
      "                                                     (0.005)                               \n",
      "                                                                                           \n",
      "cavgclr                                                                    -0.017***       \n",
      "                                                                            (0.005)        \n",
      "                                                                                           \n",
      "Constant                    4.181***                4.181***                 0.099         \n",
      "                             (0.188)                 (0.188)                (0.063)        \n",
      "                                                                                           \n",
      "-------------------------------------------------------------------------------------------\n",
      "Observations                   106                     106                     53          \n",
      "R2                            0.471                   0.471                  0.175         \n",
      "Adjusted R2                   0.455                   0.455                  0.159         \n",
      "Residual Std. Error     0.455 (df = 102)        0.455 (df = 102)        0.345 (df = 51)    \n",
      "F Statistic          30.269*** (df = 3; 102) 30.269*** (df = 3; 102) 10.798*** (df = 1; 51)\n",
      "===========================================================================================\n",
      "Note:                                                           *p<0.1; **p<0.05; ***p<0.01\n"
     ]
    }
   ],
   "source": [
    "load(\"data/crime3.RData\")\n",
    "crime3 <- data\n",
    "\n",
    "mod13_6 <- lm(data = crime3, lcrime ~ d78 + clrprc1 + clrprc2)\n",
    "mod13_6aux <- lm(data = crime3, lcrime~ d78 + clrprc1 + I(clrprc1 + clrprc2))\n",
    "mod13_6iii <- lm(data = crime3, clcrime ~ cavgclr)\n",
    "stargazer(mod13_6, mod13_6aux, mod13_6iii, title=\"Resultados\", align=TRUE, type = 'text')\n"
   ]
  },
  {
   "cell_type": "markdown",
   "metadata": {},
   "source": [
    "En el modelo auxiliar vimos que $\\theta_1 = 0$ por lo tanto comprobamos que $\\beta_1 = \\beta_2$"
   ]
  },
  {
   "cell_type": "markdown",
   "metadata": {},
   "source": [
    "##ejercico 7"
   ]
  },
  {
   "cell_type": "code",
   "execution_count": 66,
   "metadata": {},
   "outputs": [
    {
     "data": {
      "text/html": [
       "<table>\n",
       "<thead><tr><th></th><th scope=col>Estimate</th><th scope=col>Std. Error</th><th scope=col>t value</th><th scope=col>Pr(&gt;|t|)</th></tr></thead>\n",
       "<tbody>\n",
       "\t<tr><th scope=row>(Intercept)</th><td>-1.7528474371</td><td>0.3479048846 </td><td>-5.0382950   </td><td>5.943364e-07 </td></tr>\n",
       "\t<tr><th scope=row>spring</th><td>-0.0580066228</td><td>0.0480368104 </td><td>-1.2075453   </td><td>2.276182e-01 </td></tr>\n",
       "\t<tr><th scope=row>sat</th><td> 0.0016984359</td><td>0.0001494168 </td><td>11.3670984   </td><td>1.174736e-27 </td></tr>\n",
       "\t<tr><th scope=row>hsperc</th><td>-0.0086610383</td><td>0.0010362790 </td><td>-8.3578245   </td><td>3.280021e-16 </td></tr>\n",
       "\t<tr><th scope=row>female</th><td> 0.3504013324</td><td>0.0518524234 </td><td> 6.7576655   </td><td>2.893544e-11 </td></tr>\n",
       "\t<tr><th scope=row>black</th><td>-0.2541494852</td><td>0.1229215861 </td><td>-2.0675741   </td><td>3.903632e-02 </td></tr>\n",
       "\t<tr><th scope=row>white</th><td>-0.0233146198</td><td>0.1173954218 </td><td>-0.1985991   </td><td>8.426324e-01 </td></tr>\n",
       "\t<tr><th scope=row>frstsem</th><td>-0.0346584832</td><td>0.0760344786 </td><td>-0.4558259   </td><td>6.486524e-01 </td></tr>\n",
       "\t<tr><th scope=row>tothrs</th><td>-0.0003389365</td><td>0.0007267233 </td><td>-0.4663900   </td><td>6.410772e-01 </td></tr>\n",
       "\t<tr><th scope=row>crsgpa</th><td> 1.0478654858</td><td>0.1041144013 </td><td>10.0645585   </td><td>2.195313e-22 </td></tr>\n",
       "\t<tr><th scope=row>season</th><td>-0.0272903648</td><td>0.0490460388 </td><td>-0.5564234   </td><td>5.780941e-01 </td></tr>\n",
       "</tbody>\n",
       "</table>\n"
      ],
      "text/latex": [
       "\\begin{tabular}{r|llll}\n",
       "  & Estimate & Std. Error & t value & Pr(>\\textbar{}t\\textbar{})\\\\\n",
       "\\hline\n",
       "\t(Intercept) & -1.7528474371 & 0.3479048846  & -5.0382950    & 5.943364e-07 \\\\\n",
       "\tspring & -0.0580066228 & 0.0480368104  & -1.2075453    & 2.276182e-01 \\\\\n",
       "\tsat &  0.0016984359 & 0.0001494168  & 11.3670984    & 1.174736e-27 \\\\\n",
       "\thsperc & -0.0086610383 & 0.0010362790  & -8.3578245    & 3.280021e-16 \\\\\n",
       "\tfemale &  0.3504013324 & 0.0518524234  &  6.7576655    & 2.893544e-11 \\\\\n",
       "\tblack & -0.2541494852 & 0.1229215861  & -2.0675741    & 3.903632e-02 \\\\\n",
       "\twhite & -0.0233146198 & 0.1173954218  & -0.1985991    & 8.426324e-01 \\\\\n",
       "\tfrstsem & -0.0346584832 & 0.0760344786  & -0.4558259    & 6.486524e-01 \\\\\n",
       "\ttothrs & -0.0003389365 & 0.0007267233  & -0.4663900    & 6.410772e-01 \\\\\n",
       "\tcrsgpa &  1.0478654858 & 0.1041144013  & 10.0645585    & 2.195313e-22 \\\\\n",
       "\tseason & -0.0272903648 & 0.0490460388  & -0.5564234    & 5.780941e-01 \\\\\n",
       "\\end{tabular}\n"
      ],
      "text/markdown": [
       "\n",
       "| <!--/--> | Estimate | Std. Error | t value | Pr(>|t|) | \n",
       "|---|---|---|---|---|---|---|---|---|---|---|\n",
       "| (Intercept) | -1.7528474371 | 0.3479048846  | -5.0382950    | 5.943364e-07  | \n",
       "| spring | -0.0580066228 | 0.0480368104  | -1.2075453    | 2.276182e-01  | \n",
       "| sat |  0.0016984359 | 0.0001494168  | 11.3670984    | 1.174736e-27  | \n",
       "| hsperc | -0.0086610383 | 0.0010362790  | -8.3578245    | 3.280021e-16  | \n",
       "| female |  0.3504013324 | 0.0518524234  |  6.7576655    | 2.893544e-11  | \n",
       "| black | -0.2541494852 | 0.1229215861  | -2.0675741    | 3.903632e-02  | \n",
       "| white | -0.0233146198 | 0.1173954218  | -0.1985991    | 8.426324e-01  | \n",
       "| frstsem | -0.0346584832 | 0.0760344786  | -0.4558259    | 6.486524e-01  | \n",
       "| tothrs | -0.0003389365 | 0.0007267233  | -0.4663900    | 6.410772e-01  | \n",
       "| crsgpa |  1.0478654858 | 0.1041144013  | 10.0645585    | 2.195313e-22  | \n",
       "| season | -0.0272903648 | 0.0490460388  | -0.5564234    | 5.780941e-01  | \n",
       "\n",
       "\n"
      ],
      "text/plain": [
       "            Estimate      Std. Error   t value    Pr(>|t|)    \n",
       "(Intercept) -1.7528474371 0.3479048846 -5.0382950 5.943364e-07\n",
       "spring      -0.0580066228 0.0480368104 -1.2075453 2.276182e-01\n",
       "sat          0.0016984359 0.0001494168 11.3670984 1.174736e-27\n",
       "hsperc      -0.0086610383 0.0010362790 -8.3578245 3.280021e-16\n",
       "female       0.3504013324 0.0518524234  6.7576655 2.893544e-11\n",
       "black       -0.2541494852 0.1229215861 -2.0675741 3.903632e-02\n",
       "white       -0.0233146198 0.1173954218 -0.1985991 8.426324e-01\n",
       "frstsem     -0.0346584832 0.0760344786 -0.4558259 6.486524e-01\n",
       "tothrs      -0.0003389365 0.0007267233 -0.4663900 6.410772e-01\n",
       "crsgpa       1.0478654858 0.1041144013 10.0645585 2.195313e-22\n",
       "season      -0.0272903648 0.0490460388 -0.5564234 5.780941e-01"
      ]
     },
     "metadata": {},
     "output_type": "display_data"
    }
   ],
   "source": [
    "library(dplyr)\n",
    "library(car)\n",
    "load(\"data/gpa3.RData\")\n",
    "gpa4 <- data\n",
    "rm('data','desc')\n",
    "mod1 <- lm(data=gpa4, trmgpa ~  spring + sat + hsperc + female + black + white + frstsem + tothrs + crsgpa + season)\n",
    "summary(mod1)$coefficients"
   ]
  },
  {
   "cell_type": "markdown",
   "metadata": {},
   "source": [
    ">i) $season\\; -0.0273$, representa que cuando es temporada deportiva, el promedio de los estudiantes cae .027 puntos, no es estadísticamente significativo, "
   ]
  },
  {
   "cell_type": "markdown",
   "metadata": {},
   "source": [
    ">ii)si la habilidad no capturada está correlacionada con $season$, entonces estará sesgado y será inconsistente\n",
    "  "
   ]
  },
  {
   "cell_type": "code",
   "execution_count": 67,
   "metadata": {},
   "outputs": [
    {
     "name": "stdout",
     "output_type": "stream",
     "text": [
      "\n",
      "Resultados\n",
      "========================================\n",
      "                 Dependent variable:    \n",
      "             ---------------------------\n",
      "                       trmgpa           \n",
      "----------------------------------------\n",
      "spring                 -0.237           \n",
      "                       (0.206)          \n",
      "                                        \n",
      "frstsem                 0.019           \n",
      "                       (0.069)          \n",
      "                                        \n",
      "tothrs                  0.012           \n",
      "                       (0.014)          \n",
      "                                        \n",
      "crsgpa                1.136***          \n",
      "                       (0.119)          \n",
      "                                        \n",
      "season                 -0.065           \n",
      "                       (0.043)          \n",
      "                                        \n",
      "----------------------------------------\n",
      "Observations             732            \n",
      "R2                      0.208           \n",
      "Adjusted R2            -0.603           \n",
      "F Statistic    19.016*** (df = 5; 361)  \n",
      "========================================\n",
      "Note:        *p<0.1; **p<0.05; ***p<0.01\n"
     ]
    }
   ],
   "source": [
    "library(plm)\n",
    "\n",
    "gpa4.pan <- pdata.frame(gpa4, index = c(\"id\",\"term\"))\n",
    "mod1df <- plm(trmgpa ~  spring + sat + hsperc + female + black + white + frstsem \n",
    "                + tothrs + crsgpa + season, data = gpa4.pan )\n",
    "stargazer(mod1df, title=\"Resultados\", align=TRUE, type = 'text')"
   ]
  },
  {
   "cell_type": "markdown",
   "metadata": {},
   "source": [
    ">iii)Desaparecen las variables sat, hisperc, female, black, white.\n",
    ">Ahora si el deporte está en temporada  de ser en datos agregados season -0.0273 a diferenciados season -0.0645, sin embargo sigue siendo no significativo. "
   ]
  },
  {
   "cell_type": "markdown",
   "metadata": {},
   "source": [
    ">iv)Posiblemente, considerando que exista un proceso de elección de clases, el hecho de meter más o menos materias por semestres podría influir en el desempeño, tanto escolar, como deportivo y además en el promedio "
   ]
  },
  {
   "cell_type": "markdown",
   "metadata": {},
   "source": [
    "##ejercicio 8"
   ]
  },
  {
   "cell_type": "code",
   "execution_count": 68,
   "metadata": {},
   "outputs": [
    {
     "data": {
      "text/html": [
       "<table>\n",
       "<thead><tr><th></th><th scope=col>Estimate</th><th scope=col>Std. Error</th><th scope=col>t value</th><th scope=col>Pr(&gt;|t|)</th></tr></thead>\n",
       "<tbody>\n",
       "\t<tr><th scope=row>(Intercept)</th><td>-2.5559359  </td><td>0.6309071   </td><td>-4.0512078  </td><td>8.078352e-05</td></tr>\n",
       "\t<tr><th scope=row>clinexp</th><td>-1.2915259  </td><td>1.3821353   </td><td>-0.9344425  </td><td>3.515481e-01</td></tr>\n",
       "\t<tr><th scope=row>clchexp</th><td>-0.5985306  </td><td>0.7113430   </td><td>-0.8414093  </td><td>4.014318e-01</td></tr>\n",
       "\t<tr><th scope=row>cincshr</th><td> 0.1558681  </td><td>0.0636806   </td><td> 2.4476550  </td><td>1.551008e-02</td></tr>\n",
       "</tbody>\n",
       "</table>\n"
      ],
      "text/latex": [
       "\\begin{tabular}{r|llll}\n",
       "  & Estimate & Std. Error & t value & Pr(>\\textbar{}t\\textbar{})\\\\\n",
       "\\hline\n",
       "\t(Intercept) & -2.5559359   & 0.6309071    & -4.0512078   & 8.078352e-05\\\\\n",
       "\tclinexp & -1.2915259   & 1.3821353    & -0.9344425   & 3.515481e-01\\\\\n",
       "\tclchexp & -0.5985306   & 0.7113430    & -0.8414093   & 4.014318e-01\\\\\n",
       "\tcincshr &  0.1558681   & 0.0636806    &  2.4476550   & 1.551008e-02\\\\\n",
       "\\end{tabular}\n"
      ],
      "text/markdown": [
       "\n",
       "| <!--/--> | Estimate | Std. Error | t value | Pr(>|t|) | \n",
       "|---|---|---|---|\n",
       "| (Intercept) | -2.5559359   | 0.6309071    | -4.0512078   | 8.078352e-05 | \n",
       "| clinexp | -1.2915259   | 1.3821353    | -0.9344425   | 3.515481e-01 | \n",
       "| clchexp | -0.5985306   | 0.7113430    | -0.8414093   | 4.014318e-01 | \n",
       "| cincshr |  0.1558681   | 0.0636806    |  2.4476550   | 1.551008e-02 | \n",
       "\n",
       "\n"
      ],
      "text/plain": [
       "            Estimate   Std. Error t value    Pr(>|t|)    \n",
       "(Intercept) -2.5559359 0.6309071  -4.0512078 8.078352e-05\n",
       "clinexp     -1.2915259 1.3821353  -0.9344425 3.515481e-01\n",
       "clchexp     -0.5985306 0.7113430  -0.8414093 4.014318e-01\n",
       "cincshr      0.1558681 0.0636806   2.4476550 1.551008e-02"
      ]
     },
     "metadata": {},
     "output_type": "display_data"
    }
   ],
   "source": [
    "load(\"data/vote2.RData\")\n",
    "vote2 <- data\n",
    "rm('data')\n",
    "mod1c <- lm(data= vote2, cvote~ clinexp + clchexp + cincshr)\n",
    "summary(mod1c)$coefficients"
   ]
  },
  {
   "cell_type": "markdown",
   "metadata": {},
   "source": [
    ">i) el intercepto dado por -2.56 es altamente significativo y la parte total de gastos  de campaña para los titulares del cargo con un coeficiente de \n",
    "cincshr 0.156 a lo que es significativo al 1% "
   ]
  },
  {
   "cell_type": "code",
   "execution_count": 69,
   "metadata": {},
   "outputs": [
    {
     "data": {
      "text/html": [
       "<table>\n",
       "<thead><tr><th scope=col>Res.Df</th><th scope=col>RSS</th><th scope=col>Df</th><th scope=col>Sum of Sq</th><th scope=col>F</th><th scope=col>Pr(&gt;F)</th></tr></thead>\n",
       "<tbody>\n",
       "\t<tr><td>155      </td><td>9282.273 </td><td>NA       </td><td>      NA </td><td>      NA </td><td>       NA</td></tr>\n",
       "\t<tr><td>153      </td><td>9102.292 </td><td> 2       </td><td>179.9807 </td><td>1.512643 </td><td>0.2236031</td></tr>\n",
       "</tbody>\n",
       "</table>\n"
      ],
      "text/latex": [
       "\\begin{tabular}{r|llllll}\n",
       " Res.Df & RSS & Df & Sum of Sq & F & Pr(>F)\\\\\n",
       "\\hline\n",
       "\t 155       & 9282.273  & NA        &       NA  &       NA  &        NA\\\\\n",
       "\t 153       & 9102.292  &  2        & 179.9807  & 1.512643  & 0.2236031\\\\\n",
       "\\end{tabular}\n"
      ],
      "text/markdown": [
       "\n",
       "Res.Df | RSS | Df | Sum of Sq | F | Pr(>F) | \n",
       "|---|---|\n",
       "| 155       | 9282.273  | NA        |       NA  |       NA  |        NA | \n",
       "| 153       | 9102.292  |  2        | 179.9807  | 1.512643  | 0.2236031 | \n",
       "\n",
       "\n"
      ],
      "text/plain": [
       "  Res.Df RSS      Df Sum of Sq F        Pr(>F)   \n",
       "1 155    9282.273 NA       NA        NA        NA\n",
       "2 153    9102.292  2 179.9807  1.512643 0.2236031"
      ]
     },
     "metadata": {},
     "output_type": "display_data"
    }
   ],
   "source": [
    "linearHypothesis(mod1c, c(\"clinexp\",\"clchexp\"))"
   ]
  },
  {
   "cell_type": "markdown",
   "metadata": {},
   "source": [
    ">ii) No rechaza H0, es decir que conjuntamente no son significativas, al igual que de manera individual, con un p-value de 0.2236"
   ]
  },
  {
   "cell_type": "code",
   "execution_count": 70,
   "metadata": {},
   "outputs": [
    {
     "data": {
      "text/html": [
       "<table>\n",
       "<thead><tr><th></th><th scope=col>Estimate</th><th scope=col>Std. Error</th><th scope=col>t value</th><th scope=col>Pr(&gt;|t|)</th></tr></thead>\n",
       "<tbody>\n",
       "\t<tr><th scope=row>(Intercept)</th><td>-2.6811182  </td><td>0.62527726  </td><td>-4.287887   </td><td>3.159612e-05</td></tr>\n",
       "\t<tr><th scope=row>cincshr</th><td> 0.2175863  </td><td>0.03209341  </td><td> 6.779782   </td><td>2.378697e-10</td></tr>\n",
       "</tbody>\n",
       "</table>\n"
      ],
      "text/latex": [
       "\\begin{tabular}{r|llll}\n",
       "  & Estimate & Std. Error & t value & Pr(>\\textbar{}t\\textbar{})\\\\\n",
       "\\hline\n",
       "\t(Intercept) & -2.6811182   & 0.62527726   & -4.287887    & 3.159612e-05\\\\\n",
       "\tcincshr &  0.2175863   & 0.03209341   &  6.779782    & 2.378697e-10\\\\\n",
       "\\end{tabular}\n"
      ],
      "text/markdown": [
       "\n",
       "| <!--/--> | Estimate | Std. Error | t value | Pr(>|t|) | \n",
       "|---|---|\n",
       "| (Intercept) | -2.6811182   | 0.62527726   | -4.287887    | 3.159612e-05 | \n",
       "| cincshr |  0.2175863   | 0.03209341   |  6.779782    | 2.378697e-10 | \n",
       "\n",
       "\n"
      ],
      "text/plain": [
       "            Estimate   Std. Error t value   Pr(>|t|)    \n",
       "(Intercept) -2.6811182 0.62527726 -4.287887 3.159612e-05\n",
       "cincshr      0.2175863 0.03209341  6.779782 2.378697e-10"
      ]
     },
     "metadata": {},
     "output_type": "display_data"
    }
   ],
   "source": [
    "mod2c <- lm(data= vote2, cvote~cincshr)\n",
    "summary(mod2c)$coefficients"
   ]
  },
  {
   "cell_type": "markdown",
   "metadata": {},
   "source": [
    ">iii) Un aumento del 10 por ciento en el total del gasto de campaña significaría un aumento de 2.18% en los votos al candidato en cargo"
   ]
  },
  {
   "cell_type": "code",
   "execution_count": 71,
   "metadata": {},
   "outputs": [
    {
     "data": {
      "text/html": [
       "<table>\n",
       "<thead><tr><th></th><th scope=col>Estimate</th><th scope=col>Std. Error</th><th scope=col>t value</th><th scope=col>Pr(&gt;|t|)</th></tr></thead>\n",
       "<tbody>\n",
       "\t<tr><th scope=row>(Intercept)</th><td>-2.24982237</td><td>0.99860825 </td><td>-2.252958  </td><td>0.03148237 </td></tr>\n",
       "\t<tr><th scope=row>cincshr</th><td> 0.09239118</td><td>0.08472626 </td><td> 1.090467  </td><td>0.28391138 </td></tr>\n",
       "</tbody>\n",
       "</table>\n"
      ],
      "text/latex": [
       "\\begin{tabular}{r|llll}\n",
       "  & Estimate & Std. Error & t value & Pr(>\\textbar{}t\\textbar{})\\\\\n",
       "\\hline\n",
       "\t(Intercept) & -2.24982237 & 0.99860825  & -2.252958   & 0.03148237 \\\\\n",
       "\tcincshr &  0.09239118 & 0.08472626  &  1.090467   & 0.28391138 \\\\\n",
       "\\end{tabular}\n"
      ],
      "text/markdown": [
       "\n",
       "| <!--/--> | Estimate | Std. Error | t value | Pr(>|t|) | \n",
       "|---|---|\n",
       "| (Intercept) | -2.24982237 | 0.99860825  | -2.252958   | 0.03148237  | \n",
       "| cincshr |  0.09239118 | 0.08472626  |  1.090467   | 0.28391138  | \n",
       "\n",
       "\n"
      ],
      "text/plain": [
       "            Estimate    Std. Error t value   Pr(>|t|)  \n",
       "(Intercept) -2.24982237 0.99860825 -2.252958 0.03148237\n",
       "cincshr      0.09239118 0.08472626  1.090467 0.28391138"
      ]
     },
     "metadata": {},
     "output_type": "display_data"
    }
   ],
   "source": [
    "vote2r <- filter(vote2,rptchall==1)\n",
    "mod2r <- lm(data=vote2r, cvote~cincshr)\n",
    "summary(mod2r)$coefficients"
   ]
  },
  {
   "cell_type": "markdown",
   "metadata": {},
   "source": [
    ">iv) En este caso cincshr 0.092 a lo que un aumento en el 10% en el gasto del candidato a cargo, representaría un .9% de votos a su favor, sin embargo al tener una desviación estándar de .0847, considerado alto en este caso, no muestra significatividad, además que la determinación del voto a un candidato es más complejo, y el tratar de conocer la propensión de voto por peso gastado puede que esté sesgado y otro puento es la escasez de datos, es una muestra muy pequeña al solo tratar de revisar el comportamiento contra opositores que repiten. "
   ]
  },
  {
   "cell_type": "markdown",
   "metadata": {},
   "source": [
    "##ejercicio 9"
   ]
  },
  {
   "cell_type": "code",
   "execution_count": 80,
   "metadata": {},
   "outputs": [
    {
     "name": "stdout",
     "output_type": "stream",
     "text": [
      "\n",
      "Resultados\n",
      "==============================================================\n",
      "                            Dependent variable:               \n",
      "             -------------------------------------------------\n",
      "                                  lcrmrte                     \n",
      "                       (1)                      (2)           \n",
      "--------------------------------------------------------------\n",
      "d82                   0.008                    0.020          \n",
      "                     (0.017)                  (0.021)         \n",
      "                                                              \n",
      "d83                 -0.084***                 -0.071**        \n",
      "                     (0.023)                  (0.033)         \n",
      "                                                              \n",
      "d84                 -0.125***                 -0.089**        \n",
      "                     (0.029)                  (0.043)         \n",
      "                                                              \n",
      "d85                 -0.122***                  -0.069         \n",
      "                     (0.033)                  (0.058)         \n",
      "                                                              \n",
      "d86                  -0.086**                  -0.018         \n",
      "                     (0.037)                  (0.070)         \n",
      "                                                              \n",
      "d87                   -0.038                   0.041          \n",
      "                     (0.040)                  (0.081)         \n",
      "                                                              \n",
      "lprbarr             -0.327***                -0.323***        \n",
      "                     (0.030)                  (0.030)         \n",
      "                                                              \n",
      "lprbconv            -0.238***                -0.240***        \n",
      "                     (0.018)                  (0.018)         \n",
      "                                                              \n",
      "lprbpris            -0.165***                -0.169***        \n",
      "                     (0.026)                  (0.026)         \n",
      "                                                              \n",
      "lavgsen               -0.022                   -0.016         \n",
      "                     (0.022)                  (0.022)         \n",
      "                                                              \n",
      "lpolpc               0.398***                 0.398***        \n",
      "                     (0.027)                  (0.027)         \n",
      "                                                              \n",
      "lwcon                                          -0.044         \n",
      "                                              (0.030)         \n",
      "                                                              \n",
      "lwtuc                                          0.025*         \n",
      "                                              (0.014)         \n",
      "                                                              \n",
      "lwtrd                                          -0.029         \n",
      "                                              (0.031)         \n",
      "                                                              \n",
      "lwfir                                          0.009          \n",
      "                                              (0.021)         \n",
      "                                                              \n",
      "lwser                                          0.022          \n",
      "                                              (0.014)         \n",
      "                                                              \n",
      "lwmfg                                          -0.140         \n",
      "                                              (0.102)         \n",
      "                                                              \n",
      "lwfed                                          0.017          \n",
      "                                              (0.172)         \n",
      "                                                              \n",
      "lwsta                                          -0.052         \n",
      "                                              (0.096)         \n",
      "                                                              \n",
      "lwloc                                          -0.031         \n",
      "                                              (0.102)         \n",
      "                                                              \n",
      "--------------------------------------------------------------\n",
      "Observations           540                      540           \n",
      "R2                    0.433                    0.445          \n",
      "Adjusted R2           0.422                    0.424          \n",
      "F Statistic  40.318*** (df = 10; 529) 21.903*** (df = 19; 520)\n",
      "==============================================================\n",
      "Note:                              *p<0.1; **p<0.05; ***p<0.01\n"
     ]
    }
   ],
   "source": [
    "library(stats)\n",
    "library(plm)\n",
    "load(\"data/crime4.RData\")\n",
    "crime4 <- data\n",
    "rm('data')\n",
    "\n",
    "crime4.pan <- pdata.frame(crime4, index = c(\"county\",\"year\"))\n",
    "\n",
    "mod1c <- plm(data=crime4.pan,lcrmrte ~ d82 + d83 + d84 + d85 + d86 + d87 + lprbarr \n",
    "             + lprbconv + lprbpris + lavgsen + lpolpc, model = \"fd\")\n",
    "\n",
    "mod2c <- plm(data=crime4.pan,lcrmrte ~ d82 + d83 + d84 + d85 + d86 + d87 + lprbarr \n",
    "             + lprbconv + lprbpris + lavgsen + lpolpc + lwcon + lwtuc + lwtrd \n",
    "             + lwfir + lwser + lwmfg + lwfed + lwsta + lwloc, model = \"fd\")\n",
    "\n",
    "stargazer(mod1c,mod2c, title=\"Resultados\", align=TRUE, type = 'text')"
   ]
  },
  {
   "cell_type": "markdown",
   "metadata": {},
   "source": [
    ">i) Han variado de manera mínima los coeficientes, sin embargo si ha habido cambio en la significatividad de los parametros como: \n",
    "\n",
    ">d83 y d84 perdieron signifiatividad hasta .5%\n",
    ">d85 y d86 perdieron su significatividad. \n",
    "\n",
    ">y las variables de Criminalidad su variación es minima y no altera su significatividad"
   ]
  },
  {
   "cell_type": "code",
   "execution_count": 73,
   "metadata": {},
   "outputs": [
    {
     "data": {
      "text/html": [
       "<table>\n",
       "<thead><tr><th scope=col>Res.Df</th><th scope=col>Df</th><th scope=col>Chisq</th><th scope=col>Pr(&gt;Chisq)</th></tr></thead>\n",
       "<tbody>\n",
       "\t<tr><td>529      </td><td>NA       </td><td>      NA </td><td>       NA</td></tr>\n",
       "\t<tr><td>520      </td><td> 9       </td><td>11.26062 </td><td>0.2582668</td></tr>\n",
       "</tbody>\n",
       "</table>\n"
      ],
      "text/latex": [
       "\\begin{tabular}{r|llll}\n",
       " Res.Df & Df & Chisq & Pr(>Chisq)\\\\\n",
       "\\hline\n",
       "\t 529       & NA        &       NA  &        NA\\\\\n",
       "\t 520       &  9        & 11.26062  & 0.2582668\\\\\n",
       "\\end{tabular}\n"
      ],
      "text/markdown": [
       "\n",
       "Res.Df | Df | Chisq | Pr(>Chisq) | \n",
       "|---|---|\n",
       "| 529       | NA        |       NA  |        NA | \n",
       "| 520       |  9        | 11.26062  | 0.2582668 | \n",
       "\n",
       "\n"
      ],
      "text/plain": [
       "  Res.Df Df Chisq    Pr(>Chisq)\n",
       "1 529    NA       NA        NA \n",
       "2 520     9 11.26062 0.2582668 "
      ]
     },
     "metadata": {},
     "output_type": "display_data"
    }
   ],
   "source": [
    "library(car)\n",
    "linearHypothesis(mod2c, c(\"lwcon\",\"lwtuc\",\"lwtrd\",\"lwfir\",\"lwser\",\"lwmfg\",\n",
    "                          \"lwfed\", \"lwsta\", \"lwloc\"))"
   ]
  },
  {
   "cell_type": "markdown",
   "metadata": {},
   "source": [
    ">ii) Son conjuntamente no significativo, al no rechazar H0 siendo las variables no son distintas a 0"
   ]
  },
  {
   "cell_type": "markdown",
   "metadata": {},
   "source": [
    "##ejercicio 10"
   ]
  },
  {
   "cell_type": "code",
   "execution_count": 74,
   "metadata": {},
   "outputs": [
    {
     "data": {
      "text/plain": [
       "Oneway (individual) effect First-Difference Model\n",
       "\n",
       "Call:\n",
       "plm(formula = hrsemp ~ d88 + d89 + grant + grant_1 + lemploy, \n",
       "    data = jtrain.pan, model = \"fd\")\n",
       "\n",
       "Unbalanced Panel: n = 135, T = 1-3, N = 390\n",
       "Observations used in estimation: 255\n",
       "\n",
       "Residuals:\n",
       "   Min. 1st Qu.  Median    Mean 3rd Qu.    Max. \n",
       "-62.400  -5.130   0.704   0.059   4.640 137.000 \n",
       "\n",
       "Coefficients:\n",
       "        Estimate Std. Error t-value Pr(>|t|)    \n",
       "d88     -0.75828    1.91854 -0.3952   0.6930    \n",
       "d89      4.03449    3.18208  1.2679   0.2060    \n",
       "grant   32.35374    2.88001 11.2339   <2e-16 ***\n",
       "grant_1  1.17407    5.17112  0.2270   0.8206    \n",
       "lemploy  0.34908    4.70046  0.0743   0.9409    \n",
       "---\n",
       "Signif. codes:  0 ‘***’ 0.001 ‘**’ 0.01 ‘*’ 0.05 ‘.’ 0.1 ‘ ’ 1\n",
       "\n",
       "Total Sum of Squares:    177350\n",
       "Residual Sum of Squares: 93091\n",
       "R-Squared:      0.47512\n",
       "Adj. R-Squared: 0.46672\n",
       "F-statistic: 56.5735 on 4 and 250 DF, p-value: < 2.22e-16"
      ]
     },
     "metadata": {},
     "output_type": "display_data"
    }
   ],
   "source": [
    "library(stats)\n",
    "load(\"data/jtrain.RData\")\n",
    "jtrain <- data\n",
    "rm(\"data\")\n",
    "\n",
    "library(plm)\n",
    "\n",
    "jtrain.pan <- pdata.frame(jtrain, index = c (\"fcode\",\"year\"))\n",
    "mod2c <- plm(data=jtrain.pan,hrsemp~d88+d89+grant+grant_1+lemploy, model = \"fd\" )\n",
    "\n",
    "summary(mod2c)\n",
    "\n"
   ]
  },
  {
   "cell_type": "markdown",
   "metadata": {},
   "source": [
    ">i)fueron usadas 225 observaciones... \n",
    "\n",
    ">ii)Es siginificativo el valor de grant y trata de decir que al recibir la el subsidio lo que provoca es que estaria empeorando el funcionamiento de la operación y desperdiciarias 32.36 más que si no lo tuvieras. "
   ]
  },
  {
   "cell_type": "markdown",
   "metadata": {},
   "source": [
    ">iii) puede que haya sido su poca variabilidad al mmomento de hacer las diferencias, lo que provocaria que si variabilidad estadistica se muy alta y este sea impresiso"
   ]
  },
  {
   "cell_type": "markdown",
   "metadata": {},
   "source": [
    "##Ejericio 11"
   ]
  },
  {
   "cell_type": "code",
   "execution_count": 75,
   "metadata": {},
   "outputs": [
    {
     "name": "stdout",
     "output_type": "stream",
     "text": [
      "\n",
      "Resultados\n",
      "===============================================================\n",
      "                            Dependent variable:                \n",
      "             --------------------------------------------------\n",
      "                                   math4                       \n",
      "                        (1)                      (2)           \n",
      "---------------------------------------------------------------\n",
      "year1993             5.955***                  7.115***        \n",
      "                      (0.518)                  (0.674)         \n",
      "                                                               \n",
      "year1994             12.431***                13.454***        \n",
      "                      (0.759)                  (0.849)         \n",
      "                                                               \n",
      "year1995             25.198***                25.823***        \n",
      "                      (1.067)                  (1.091)         \n",
      "                                                               \n",
      "year1996             25.918***                25.954***        \n",
      "                      (1.200)                  (1.199)         \n",
      "                                                               \n",
      "year1997             23.385***                23.296***        \n",
      "                      (1.333)                  (1.332)         \n",
      "                                                               \n",
      "year1998             38.308***                38.099***        \n",
      "                      (1.447)                  (1.448)         \n",
      "                                                               \n",
      "lrexpp                -3.447                    -2.341         \n",
      "                      (2.760)                  (2.788)         \n",
      "                                                               \n",
      "lag(lrexpp)                                    4.705***        \n",
      "                                               (1.753)         \n",
      "                                                               \n",
      "lenrol                 0.635                    1.108          \n",
      "                      (1.029)                  (1.043)         \n",
      "                                                               \n",
      "lunch                  0.025                    0.027          \n",
      "                      (0.055)                  (0.055)         \n",
      "                                                               \n",
      "---------------------------------------------------------------\n",
      "Observations           3,300                    3,299          \n",
      "R2                     0.208                    0.210          \n",
      "Adjusted R2            0.206                    0.208          \n",
      "F Statistic  108.028*** (df = 8; 3291) 96.976*** (df = 9; 3289)\n",
      "===============================================================\n",
      "Note:                               *p<0.1; **p<0.05; ***p<0.01\n"
     ]
    }
   ],
   "source": [
    "load(\"data/mathpnl.RData\")\n",
    "math_pane <- pdata.frame(data, index = c('distid','year'))\n",
    "model11ii <- plm(math4 ~ year + lrexpp + lenrol + lunch, data = math_pane, model = 'fd')\n",
    "model11.3 <- plm(math4 ~ year + lrexpp + lag(lrexpp) + lenrol + lunch , data = math_pane, model = 'fd')\n",
    "stargazer(model11ii,model11.3, title=\"Resultados\", align=TRUE, type = 'text')\n"
   ]
  },
  {
   "cell_type": "markdown",
   "metadata": {},
   "source": [
    ">ii) En el primer modelo, si el gasto por alumno se incrementa en 10% generara una disminución en la tasa de quienes aprueban matemáticas de 3.5/10 $\\simeq{0.35}\\%$ \n",
    "\n",
    ">iii) El coeficiente que se agregó para $lrexpp_{t-1}$ es sginificativo a cualquier nivel y es de 4.7 míentras que el gasto en el año actaul se vuelve insignificante. Se puede decir que un aumento del gasto real de 100% en el año anterior incrementa en $\\simeq{4.7}$ puntos la tasa de aprobados."
   ]
  },
  {
   "cell_type": "code",
   "execution_count": 76,
   "metadata": {},
   "outputs": [
    {
     "name": "stdout",
     "output_type": "stream",
     "text": [
      "\n",
      "Resultados\n",
      "=======================================================\n",
      "                               Dependent variable:     \n",
      "                           ----------------------------\n",
      "                                      math4            \n",
      "                                (1)            (2)     \n",
      "-------------------------------------------------------\n",
      "year1993                      7.115***      7.115***   \n",
      "                              (0.674)        (0.674)   \n",
      "                                                       \n",
      "year1994                     13.454***      13.454***  \n",
      "                              (0.849)        (0.849)   \n",
      "                                                       \n",
      "year1995                     25.823***      25.823***  \n",
      "                              (1.091)        (1.091)   \n",
      "                                                       \n",
      "year1996                     25.954***      25.954***  \n",
      "                              (1.199)        (1.199)   \n",
      "                                                       \n",
      "year1997                     23.296***      23.296***  \n",
      "                              (1.332)        (1.332)   \n",
      "                                                       \n",
      "year1998                     38.099***      38.099***  \n",
      "                              (1.448)        (1.448)   \n",
      "                                                       \n",
      "lrexpp                         -2.341        -2.341    \n",
      "                              (2.788)        (2.788)   \n",
      "                                                       \n",
      "lag(lrexpp)                   4.705***      4.705***   \n",
      "                              (1.753)        (1.753)   \n",
      "                                                       \n",
      "lenrol                         1.108          1.108    \n",
      "                              (1.043)        (1.043)   \n",
      "                                                       \n",
      "lunch                          0.027          0.027    \n",
      "                              (0.055)        (0.055)   \n",
      "                                                       \n",
      "-------------------------------------------------------\n",
      "Observations                   3,299          3,299    \n",
      "R2                             0.210          0.210    \n",
      "Adjusted R2                    0.208          0.208    \n",
      "F Statistic (df = 9; 3289)   96.976***      96.976***  \n",
      "=======================================================\n",
      "Note:                       *p<0.1; **p<0.05; ***p<0.01\n"
     ]
    }
   ],
   "source": [
    "model11.3HAC <- plm(math4 ~ year + lrexpp + lag(lrexpp) + lenrol + lunch , \n",
    "                 data = math_pane, model = 'fd', vcov = vcovNW)\n",
    "stargazer(model11.3HAC,model11.3, title=\"Resultados\", align=TRUE, type = 'text')"
   ]
  },
  {
   "cell_type": "code",
   "execution_count": 77,
   "metadata": {},
   "outputs": [
    {
     "data": {
      "text/html": [
       "<table>\n",
       "<thead><tr><th></th><th scope=col>Estimate</th><th scope=col>Std. Error</th><th scope=col>t-value</th><th scope=col>Pr(&gt;|t|)</th></tr></thead>\n",
       "<tbody>\n",
       "\t<tr><th scope=row>year1993</th><td> 7.11473904  </td><td>0.8866415    </td><td> 8.0243693   </td><td> 1.406362e-15</td></tr>\n",
       "\t<tr><th scope=row>year1994</th><td>13.45400752  </td><td>1.0378371    </td><td>12.9635055   </td><td> 1.610756e-37</td></tr>\n",
       "\t<tr><th scope=row>year1995</th><td>25.82282027  </td><td>1.3384444    </td><td>19.2931594   </td><td> 1.164999e-78</td></tr>\n",
       "\t<tr><th scope=row>year1996</th><td>25.95449745  </td><td>1.3191999    </td><td>19.6744228   </td><td> 1.467130e-81</td></tr>\n",
       "\t<tr><th scope=row>year1997</th><td>23.29557622  </td><td>1.4118028    </td><td>16.5005880   </td><td> 7.897643e-59</td></tr>\n",
       "\t<tr><th scope=row>year1998</th><td>38.09868327  </td><td>1.5418688    </td><td>24.7094199   </td><td>8.560980e-124</td></tr>\n",
       "\t<tr><th scope=row>lrexpp</th><td>-2.34138801  </td><td>4.6799973    </td><td>-0.5002969   </td><td> 6.168995e-01</td></tr>\n",
       "\t<tr><th scope=row>lag(lrexpp)</th><td> 4.70480596  </td><td>2.8144097    </td><td> 1.6716848   </td><td> 9.468161e-02</td></tr>\n",
       "\t<tr><th scope=row>lenrol</th><td> 1.10832011  </td><td>1.4471623    </td><td> 0.7658575   </td><td> 4.438161e-01</td></tr>\n",
       "\t<tr><th scope=row>lunch</th><td> 0.02687666  </td><td>0.1482078    </td><td> 0.1813444   </td><td> 8.561084e-01</td></tr>\n",
       "</tbody>\n",
       "</table>\n"
      ],
      "text/latex": [
       "\\begin{tabular}{r|llll}\n",
       "  & Estimate & Std. Error & t-value & Pr(>\\textbar{}t\\textbar{})\\\\\n",
       "\\hline\n",
       "\tyear1993 &  7.11473904   & 0.8866415     &  8.0243693    &  1.406362e-15\\\\\n",
       "\tyear1994 & 13.45400752   & 1.0378371     & 12.9635055    &  1.610756e-37\\\\\n",
       "\tyear1995 & 25.82282027   & 1.3384444     & 19.2931594    &  1.164999e-78\\\\\n",
       "\tyear1996 & 25.95449745   & 1.3191999     & 19.6744228    &  1.467130e-81\\\\\n",
       "\tyear1997 & 23.29557622   & 1.4118028     & 16.5005880    &  7.897643e-59\\\\\n",
       "\tyear1998 & 38.09868327   & 1.5418688     & 24.7094199    & 8.560980e-124\\\\\n",
       "\tlrexpp & -2.34138801   & 4.6799973     & -0.5002969    &  6.168995e-01\\\\\n",
       "\tlag(lrexpp) &  4.70480596   & 2.8144097     &  1.6716848    &  9.468161e-02\\\\\n",
       "\tlenrol &  1.10832011   & 1.4471623     &  0.7658575    &  4.438161e-01\\\\\n",
       "\tlunch &  0.02687666   & 0.1482078     &  0.1813444    &  8.561084e-01\\\\\n",
       "\\end{tabular}\n"
      ],
      "text/markdown": [
       "\n",
       "| <!--/--> | Estimate | Std. Error | t-value | Pr(>|t|) | \n",
       "|---|---|---|---|---|---|---|---|---|---|\n",
       "| year1993 |  7.11473904   | 0.8866415     |  8.0243693    |  1.406362e-15 | \n",
       "| year1994 | 13.45400752   | 1.0378371     | 12.9635055    |  1.610756e-37 | \n",
       "| year1995 | 25.82282027   | 1.3384444     | 19.2931594    |  1.164999e-78 | \n",
       "| year1996 | 25.95449745   | 1.3191999     | 19.6744228    |  1.467130e-81 | \n",
       "| year1997 | 23.29557622   | 1.4118028     | 16.5005880    |  7.897643e-59 | \n",
       "| year1998 | 38.09868327   | 1.5418688     | 24.7094199    | 8.560980e-124 | \n",
       "| lrexpp | -2.34138801   | 4.6799973     | -0.5002969    |  6.168995e-01 | \n",
       "| lag(lrexpp) |  4.70480596   | 2.8144097     |  1.6716848    |  9.468161e-02 | \n",
       "| lenrol |  1.10832011   | 1.4471623     |  0.7658575    |  4.438161e-01 | \n",
       "| lunch |  0.02687666   | 0.1482078     |  0.1813444    |  8.561084e-01 | \n",
       "\n",
       "\n"
      ],
      "text/plain": [
       "            Estimate    Std. Error t-value    Pr(>|t|)     \n",
       "year1993     7.11473904 0.8866415   8.0243693  1.406362e-15\n",
       "year1994    13.45400752 1.0378371  12.9635055  1.610756e-37\n",
       "year1995    25.82282027 1.3384444  19.2931594  1.164999e-78\n",
       "year1996    25.95449745 1.3191999  19.6744228  1.467130e-81\n",
       "year1997    23.29557622 1.4118028  16.5005880  7.897643e-59\n",
       "year1998    38.09868327 1.5418688  24.7094199 8.560980e-124\n",
       "lrexpp      -2.34138801 4.6799973  -0.5002969  6.168995e-01\n",
       "lag(lrexpp)  4.70480596 2.8144097   1.6716848  9.468161e-02\n",
       "lenrol       1.10832011 1.4471623   0.7658575  4.438161e-01\n",
       "lunch        0.02687666 0.1482078   0.1813444  8.561084e-01"
      ]
     },
     "metadata": {},
     "output_type": "display_data"
    }
   ],
   "source": [
    "#Errores estándar robustos a heterocedasticidad \n",
    "summary(model11.3, vcov = vcovHC)$coefficients"
   ]
  },
  {
   "cell_type": "code",
   "execution_count": 78,
   "metadata": {},
   "outputs": [
    {
     "ename": "ERROR",
     "evalue": "Error in if (names(u)[i] == names(v)[j]) {: missing value where TRUE/FALSE needed\n",
     "output_type": "error",
     "traceback": [
      "Error in if (names(u)[i] == names(v)[j]) {: missing value where TRUE/FALSE needed\nTraceback:\n",
      "1. coeftest(model11.3, vcov. = vcovNW)",
      "2. coeftest.default(model11.3, vcov. = vcovNW)",
      "3. vcov.(x, ...)",
      "4. vcovNW.plm(x, ...)",
      "5. vcovSCC(x, type = type, maxlag = maxlag, inner = \"white\", wj = wj, \n .     ...)",
      "6. vcovSCC.plm(x, type = type, maxlag = maxlag, inner = \"white\", \n .     wj = wj, ...)",
      "7. vcovG(x, type = type, cluster = cluster, l = i, inner = inner)",
      "8. vcovG.plm(x, type = type, cluster = cluster, l = i, inner = inner)",
      "9. crossprod(X, E(u, ul))",
      "10. E(u, ul)"
     ]
    }
   ],
   "source": [
    "#según la documentación de plm::vcovNW asi deberia funcionar para\n",
    "#errores estándar a heterocedasticidad y autocorrelación\n",
    "#pero da Error in if (names(u)[i] == names(v)[j]) {: missing value where TRUE/FALSE needed\n",
    "coeftest(model11.3, vcov.=vcovNW)\n"
   ]
  },
  {
   "cell_type": "code",
   "execution_count": null,
   "metadata": {},
   "outputs": [],
   "source": [
    "##Ejercicio 12\n",
    "load('data/murder.RData')\n",
    "murder_pane <- pdata.frame(data, index('id','year'))\n",
    "model12i <- lm(mrdrte ~ d93 + exec + unem, data = murder_pane)\n",
    "summary(model12i)$coefficients\n"
   ]
  },
  {
   "cell_type": "markdown",
   "metadata": {},
   "source": [
    "> i) "
   ]
  },
  {
   "cell_type": "code",
   "execution_count": null,
   "metadata": {},
   "outputs": [],
   "source": [
    "mur90 <- filter(murder_pane, year==90)\n",
    "mur93 <- filter(murder_pane, year==93)\n",
    "mur_diff <- mur90 - mur93\n",
    "model12Fd <- lm(mrdrte ~ d93 + exec + unem, data =mur_diff)\n",
    "summary(model12Fd)$coefficients\n"
   ]
  },
  {
   "cell_type": "markdown",
   "metadata": {},
   "source": [
    ">ii)"
   ]
  },
  {
   "cell_type": "code",
   "execution_count": null,
   "metadata": {},
   "outputs": [],
   "source": [
    "e <- residuals(model12Fd)\n",
    "BP <-lm(I(e^2) ~  exec + unem, data = mur_diff)\n",
    "linearHypothesis(BP, c('exec','unem'))\n",
    "fit <- model12Fd$fitted.values\n",
    "white.test<- lm(I(e^2) ~ fit + I(fit^2))\n",
    "linearHypothesis(white.test, c('fit','I(fit^2)'))"
   ]
  },
  {
   "cell_type": "markdown",
   "metadata": {},
   "source": [
    ">iii)no existe suficiente evidencia estadística para decir que hay heterocedasticidad en el modelo de primera diferencia, los p-value de las pruebas de Breusch Pagan y white son de 0.55 y 0.56 respectivamente. "
   ]
  },
  {
   "cell_type": "code",
   "execution_count": null,
   "metadata": {},
   "outputs": [],
   "source": [
    "coeftest(model12Fd, vcov= vcovHC)"
   ]
  },
  {
   "cell_type": "markdown",
   "metadata": {},
   "source": [
    ">iv) El t Robusto a HC es -2.62 como se esperaba es más grande que el anterior porque los intervalos robustos son más amplios, pero no hace falta hacer estimaciones robustas por que no se encontró heterocedasticidad.\n",
    "\n",
    ">vi) no hace falta hacer estimaciones robustas por que no se encontró heterocedasticidad por tal razon se prefiere el estadístico usual."
   ]
  },
  {
   "cell_type": "markdown",
   "metadata": {},
   "source": [
    "##Ejercicio 13"
   ]
  },
  {
   "cell_type": "code",
   "execution_count": null,
   "metadata": {},
   "outputs": [],
   "source": [
    "load(\"data/wagepan.RData\")\n",
    "wage.pan <- data\n",
    "rm(data)\n",
    "\n",
    "mod1 <- lm(data=wage.pan, lwage~d81+d82+d83+d84+d85+d86+d87+educ+I(d81*educ)\n",
    "           +I(d82*educ)+I(d83*educ)+I(d84*educ)+I(d85*educ)+I(d86*educ)+I(d87*educ)\n",
    "           +union)\n",
    "summary(mod1)$coefficients\n"
   ]
  },
  {
   "cell_type": "markdown",
   "metadata": {},
   "source": [
    ">i) las variables de tiempo principalmente, además que las otras variables cambian poco en el tiempo."
   ]
  },
  {
   "cell_type": "code",
   "execution_count": null,
   "metadata": {},
   "outputs": [],
   "source": [
    "wage.panpan <- pdata.frame(wage.pan,index = c(\"nr\",\"year\"))\n",
    "\n",
    "mod1c <- plm(data=wage.panpan,lwage~d81+d82+d83+d84+d85+d86+d87+educ+I(d81*educ)\n",
    "             +I(d82*educ)+I(d83*educ)+I(d84*educ)+I(d85*educ)+I(d86*educ)+I(d87*educ)\n",
    "             +union, model =\"fd\" )\n",
    "summary(mod1c)"
   ]
  },
  {
   "cell_type": "markdown",
   "metadata": {},
   "source": [
    ">ii)al hacer el modelo de diferencias, se anula la variable educación a lo que no puedo hacer la hypotesis estadistica, "
   ]
  },
  {
   "cell_type": "markdown",
   "metadata": {},
   "source": [
    "##Ejercicio 16"
   ]
  },
  {
   "cell_type": "code",
   "execution_count": null,
   "metadata": {
    "scrolled": true
   },
   "outputs": [],
   "source": [
    "county<-county <- data.frame(read.csv(\"data/countymurders.csv\"))\n",
    "sum = c(\n",
    "  'Mean murdrate' = round(mean(county$murdrate),3),\n",
    "  'Sd murdrate'   = round(sd(county$murdrate),3),\n",
    "  '%murdrate = 0' = paste(round(nrow(filter(county, murdrate == 0))/nrow(county),4)*100,'%'),\n",
    "  'Mean execs'    = round(mean(county$execs),3),\n",
    "  'Sd execs'      = round(sd(county$execs),3),\n",
    "  '%execs = 0'    = paste(round(nrow(filter(county, execs == 0))/nrow(county),4)*100,'%'),\n",
    "  'max exces'     = max(county$execs),     \n",
    "  'nrow exces > 0'= nrow(filter(county, execs > 0))\n",
    "       )\n",
    "sum\n"
   ]
  },
  {
   "cell_type": "markdown",
   "metadata": {},
   "source": [
    ">i & ii) \n",
    "La media de ejecuciones por pena de muerte es muy baja por que de los 2197 condados únicamente se aplicó esta condena en 205 y el máximo fue de 7. Si no se tuvieran en cuenta los condados que no la aplicaron, el promedio sería de 1.25.\n",
    "\n",
    ">iii)\n",
    "Para poder aplicar sección cruzada por MCO se debe asumir que el error idiosincrático no está correlaciondo con las variables explicativas."
   ]
  },
  {
   "cell_type": "code",
   "execution_count": null,
   "metadata": {},
   "outputs": [],
   "source": [
    "library(stringr)\n",
    "i=0\n",
    "teta = NULL\n",
    "for(year in unique(county$year)){\n",
    "  teta[i<- i+1]= paste(\"y\",str_sub(year, start= -2), sep = \"_\")   \n",
    "  county[teta[i]] <-\n",
    "    ifelse(county$year == year, 1, 0)\n",
    "}\n",
    "years <- select(county, c(teta[2:16]))\n",
    "model16_4 <- lm(county$murdrate ~. + county$execs +\n",
    "                lag(county$execs) + county$percblack + county$percmale \n",
    "                + county$perc1019 + county$perc2029, data = years)\n",
    "summary(model16_4)$coefficients"
   ]
  },
  {
   "cell_type": "markdown",
   "metadata": {},
   "source": [
    ">iv) En esta regresión, se observa que manteniendo los demás factores constantes, por cada pena capital, se incrementan los asesinatos en 0.16. Lo que puede estar pasando aquí es que los otros factores que se encuentran en el error idiosincrático inciden más que el número de ejecuciones que se realicen. \n",
    "\n",
    ">v) Es raro que tantos parámetros sean tan significativos, seguramente el modelo tiene problemas de autocorrelación y esto hace que se subestime los errores estándar y a su vez se sobre estime la significatividad de los parámetros."
   ]
  },
  {
   "cell_type": "code",
   "execution_count": null,
   "metadata": {},
   "outputs": [],
   "source": [
    "county_pane <- pdata.frame(county, index = c('countyid','year'))\n",
    "model13_fd <- plm(murdrate ~ year + execs + lag(execs) + percblack + percmale + \n",
    "    perc1019 + perc2029, data = county_pane, model = 'fd')\n",
    "summary(model13_fd)$coefficients"
   ]
  },
  {
   "cell_type": "markdown",
   "metadata": {},
   "source": [
    ">vi) los estimadores de $execs$ y $execs_{t-1}$ son $\\simeq{.003}$ y $\\simeq{.028}$ es evidente a simple vista la diferencia con el modelo de sección cruzada, incluso cambia el signo.\n",
    "\n",
    ">vii) No existe suficiente evidencia estadística para decir que la pena de muerte influye significativamente en el número de homicidios tanto $execs$ y $execs_{t-1}$ tienen valores $T$ muy pequeños. "
   ]
  }
 ],
 "metadata": {
  "kernelspec": {
   "display_name": "R",
   "language": "R",
   "name": "ir"
  },
  "language_info": {
   "codemirror_mode": "r",
   "file_extension": ".r",
   "mimetype": "text/x-r-source",
   "name": "R",
   "pygments_lexer": "r",
   "version": "3.2.3"
  }
 },
 "nbformat": 4,
 "nbformat_minor": 2
}

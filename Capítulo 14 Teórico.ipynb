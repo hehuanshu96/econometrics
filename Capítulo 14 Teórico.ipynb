{
 "cells": [
  {
   "cell_type": "markdown",
   "metadata": {},
   "source": [
    "# Parte Teórica Capítulo 14 \n",
    "   ## Econometría II, Nelson Muriel\n",
    "    \n",
    "    \n",
    "   ## Andres de Alba, Cristian Cárdenas, Anderson Martínez, Gissela Rodríguez\n",
    "   "
   ]
  },
  {
   "cell_type": "markdown",
   "metadata": {},
   "source": [
    "## Ejercicio 1\n",
    "> $Corr(Δu_{it},Δu_{it+1})= Cov(Δu_{it},Δu_{it+1})/Var(Δu_{it})$\n",
    "la $Var(Δu_{it}) = Var(u_{it}-u_{i t-1})$\n",
    "qué es lo mismo a $Var(u_{it})+ Var(u_{i t-1})$ por lo tanto es $2\\sigma^2_u$. teniendo en cuenta el supuesto de no autocorrelación es decir que la diferencia de $u_{it}$ y $u_{it-1}$ tienen media cero entonces, $$Cov(Δu_{it}, Δu_{i t+1}) = E(Δu_{it}, Δu_{i t+1}) = E[(u_{it} - u_{i t-1})(u_{i t+1}-u_{it})] = E(u_{it}u_{it+1})-E(u_{it-1}u_{it+11})+E(u_{it-1}u_{it}) = -E(u^2_{it}) = -\\sigma^2_u$$\n",
    "$$Cov(Δu_{it},Δu_{it+1})/Var(Δu_{it}) = -\\sigma^2_u/2\\sigma^2_u= -1/2$$"
   ]
  },
  {
   "cell_type": "markdown",
   "metadata": {},
   "source": [
    "## Ejercicio 2\n",
    ">i) \n",
    ">$plim (β_1 ) ̃= β_1+Cov((x_i ) ̅,(v_i ) ̅ )/Var((x_i ) ̅ )$ \n",
    ">$plim (β_1 ) ̃= β_1+Cov((x_i ) ̅,a_i+(u_i ) ̅ )/Var((x_i ) ̅ )$ \n",
    ">$E(a_i+(u_i ) ̅ )=0$ Entonces $Cov((x_i ) ̅,a_i+(u_i ) ̅ )= E((x_i ) ̅(a_i+(u_i ) ̅ ))=E((x_i ) ̅,a_i )+E((x_i ) ̅,(u_i ) ̅ )=E((x_i ) ̅,a_i ) $\n",
    ">Por qué la $(u_i ) ̅ $ está incorrelada con las $(x_(i ) ) ̅, E((x_i ) ̅,(u_i ) ̅ )=0$, entonces la $E((x_i ) ̅,a_i )=σ_xa$ \n",
    "Entonces \n",
    ">$plim (β_1 ) ̃= β_1+(σ_xa  )/Var((x_i ) ̅ )$ \n",
    "\n",
    ">ii)\n",
    ">$Var((x_i ) ̅ )=(σ_x^2)/T$\n",
    "Entonces, sustituyendo. \n",
    "$plim (β_1 ) ̃= β_1+(σ_xa  )/((σ_x^2)/T)→plim (β_1 ) ̃= β_1+T((σ_xa  )/(σ_x^2 ))$\n",
    "\n",
    ">iii)\n",
    "Supone que entre mayor sea la cantidad de años, la inconsistencia será mayor, todo depende $(σ_xa  )/(σ_x^2 )≠0.$"
   ]
  },
  {
   "cell_type": "markdown",
   "metadata": {},
   "source": [
    "## Ejercicio 3\n",
    ">i) $E(e_it )=E(v_it-λ(v_i ) ̅ )=E((v_i ) ̅ )-λE((v_i ) ̅ )=0$  Debido a que $E((v_i ) ̅ )$ para toda t, es igual a 0.\n",
    "\n",
    ">ii) $Var(e_it )=Var(v_it-λ(v_i ) ̅ )=Var(v_it)+λ^2 Var((v_i ) ̅ )-2λ*Cov(v_it,(v_i ) ̅ )$\n",
    "$σ_v^2+λ^2 E(v ̅_i^2 )+2λ*E(v_it,(v_i ) ̅ )$\n",
    "\n",
    "$→σ_v^2=σ_a^2+σ_u^2$\n",
    "\n",
    "$→E(v ̅_i^2 )= E(v_it v ̅_i )=ΣE(v_it v_i )/T=[σ_a^2+σ_a^2+⋯+(σ_a^2+σ_u^2 )+⋯+σ_a^2 ]/T$\n",
    "\n",
    "$E(v ̅_i^2 ) 〖=σ〗_a^2+(σ_u^2)/T$\n",
    "\n",
    "$→ E(v_it,(v_i ) ̅ )=  ΣE(v_it v_is )/T=[σ_a^2+σ_a^2+⋯+(σ_a^2+σ_u^2 )+⋯+σ_a^2 ]/T$\n",
    "\n",
    "$E(v_it,(v_i ) ̅ )=σ_a^2+(σ_u^2)/T$\n",
    "\n",
    "Entonces $Var(v_it-λ(v_i ) ̅ )=σ_a^2+σ_u^2+λ^2 〖(σ〗_a^2+(σ_u^2)/T)-2λ(σ_a^2+(σ_u^2)/T)$ \n",
    "\n",
    "Si consideramos a $λ=1-√γ/√δ$\n",
    "\n",
    "Siendo $γ=(σ_u^2)/T   y δ=σ_a^2+(σ_u^2)/T$ \n",
    "\n",
    "$Var(v_it-λ(v_i ) ̅ )=σ_a^2+σ_u^2+〖(1-√γ/√δ)〗^2 〖(σ〗_a^2+(σ_u^2)/T)-2(1-√γ/√δ)(σ_a^2+(σ_u^2)/T)$\n",
    "\n",
    "$Var(v_it-λ(v_i ) ̅ )=σ_a^2+σ_u^2+(1-2 √γ/√δ+γ/δ)δ-(2-2 √γ/√δ)δ$\n",
    "\n",
    "$Var(v_it-λ(v_i ) ̅ )=σ_a^2+σ_u^2+δ-2√γ*√δ+γ-2δ+2√γ*√δ$\n",
    "\n",
    "$Var(v_it-λ(v_i ) ̅ )=σ_a^2+σ_u^2+γ-δ$\n",
    "\n",
    "Sustituyendo $Var(v_it-λ(v_i ) ̅ )=σ_a^2+σ_u^2+(σ_u^2)/T-σ_a^2-(σ_u^2)/T $\n",
    "\n",
    "$Var(v_it-λ(v_i ) ̅ )=σ_u^2$\n",
    "\n",
    ">iii)$E(e_it,e_is )=E[(v_it-λ(v_i ) ̅ )(v_is-λ(v_i ) ̅ )]=[E(v_it v_is)-λE(v_it (v_i ) ̅ )-λE((v_i ) ̅v_is)+λ^2 E((v_i^2 ) ̅ )]$\n",
    "$E(v_it,v_is )=Var(v_it )=σ_a^2$\n",
    "\n",
    "$E(v_it,(v_i ) ̅ )=σ_a^2+(σ_u^2)/T$\n",
    "\n",
    "$E(v ̅_i v_is,)=σ_a^2+(σ_u^2)/T$\n",
    "\n",
    "$E(v ̅_i^2 ) 〖=σ〗_a^2+(σ_u^2)/T$\n",
    "\n",
    "$E(e_it,e_is )=σ_a^2-2λ(σ_a^2+(σ_u^2)/T)+λ^2 (σ_a^2+(σ_u^2)/T)$\n",
    "\n",
    "Si consideramos a $λ=1-√γ/√δ$\n",
    "Siendo $γ=(σ_u^2)/T   y δ=σ_a^2+(σ_u^2)/T$\n",
    "\n",
    "$σ_a^2-2(1-√γ/√δ)(σ_a^2+(σ_u^2)/T)+(1-√γ/√δ)^2 (σ_a^2+(σ_u^2)/T)$\n",
    "\n",
    "$σ_a^2-2δ+2√γ*√δ+(1-2 √γ/√δ+γ/δ)δ$\n",
    "\n",
    "$σ_a^2-2δ+2√γ*√δ+δ-2√γ*√δ+γ$\n",
    "\n",
    "$σ_a^2-δ+γ$\n",
    "\n",
    "$E(e_it,e_is )=σ_a^2-σ_a^2-(σ_u^2)/T+(σ_u^2)/T=0$\n"
   ]
  },
  {
   "cell_type": "markdown",
   "metadata": {},
   "source": [
    "## Ejercicio 4\n",
    ">i) incluiría variables como el número de torneos deportivos ganados en los últimos 2 años, cantidad de equipos deportivos activos en la universidad. \n",
    "\n",
    ">ii) Variables de control podrían ser: Calidad de la universidad (medida por rankings, existencia de certificados de calidad, etc), Infraestructura, Costo de inscripción, Publicidad.\n",
    "\n",
    ">iii) El modelo podría ser el siguiente $$ N\\_Applicaciones = \\beta_0 + \\beta_1 torneos\\_ganados + \\beta_2 N\\_equipos + \\beta_3 cert\\_calidad + \\beta_4 costo + a_i + u_{it}$$\n"
   ]
  },
  {
   "cell_type": "markdown",
   "metadata": {},
   "source": [
    "## Ejercicio 5\n",
    "> i) Los datos pueden ser clasificados como un clouster por que pertenecen a una clase de la universidad que es como un grupo de clusterización y los estudiantes están en pares. \n",
    "con las variables observadas, para cada muestra de estudiantes en clase, se espera que el estudante típico tenga 4 observaciones.\n",
    "\n",
    ">ii) $examen_{sc} = \\beta_0 + \\delta_1 clase_1 +...+ \\delta_n clase_n + promedio_{s} + \\delta_2 asistencia_{sc} + otros factores + a_s + u_{sc}$\n",
    "\n",
    ">iii) Se debe cumplir el supuesto de exogeneidad en el error idiosincrático, es decir que no esté correlacionado con las variables explicativas. \n",
    "\n",
    ">iv) Si la variable SAT y el promedio de notas anterior no explicara suficientemente la habilidad del estudiante, entonces parte de la explicación se queda en ai y esto generaría problemas de endogeneidad (correlación entre ai y las variables explicativas) por lo cual se recomendaría usar efectos fijos o primera diferencia. "
   ]
  },
  {
   "cell_type": "markdown",
   "metadata": {},
   "source": [
    "## Ejercicio 6\n",
    ">i) Los errores robusto en este caso son más grandes, esto puede entenderse debido a que el error es compuesto, así que hay un error inobservable.\n",
    "\n",
    ">ii)En las variables \"constantes\" los estimadores y los errores estándar son cercanamente el mismo, a diferencia de las variables en el tiempo como, $Exper^2$, $Married$ y $Union$, donde las variaciones en los coeficientes y los errores es mayor, sin embargo, el modelo por efectos aleatorios es más eficiente debido a que esta tratado de una manera específica.\n",
    "\n",
    ">iii)Son relativamente los mismos, lo que varía es minimo, debido a que ya al tratarlo de una manera específica y despues meter robustos quita autocorrelación y heteroscedasticidad a lo que es más amplio su error estándar.\n",
    "\n",
    ">iV) si puesto que es más eficiente hacer el modelo de Efectos Aleatorios que solo meter Robustos."
   ]
  },
  {
   "cell_type": "markdown",
   "metadata": {},
   "source": [
    "## Ejercicio 7\n",
    ">i) Los Robustos pues así elimina cualquier tema de sobre estimación por autocorrelación."
   ]
  }
 ],
 "metadata": {
  "kernelspec": {
   "display_name": "Python 3",
   "language": "python",
   "name": "python3"
  },
  "language_info": {
   "codemirror_mode": {
    "name": "ipython",
    "version": 3
   },
   "file_extension": ".py",
   "mimetype": "text/x-python",
   "name": "python",
   "nbconvert_exporter": "python",
   "pygments_lexer": "ipython3",
   "version": "3.5.2"
  }
 },
 "nbformat": 4,
 "nbformat_minor": 2
}
